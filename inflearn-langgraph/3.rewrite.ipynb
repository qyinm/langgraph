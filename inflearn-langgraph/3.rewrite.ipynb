{
 "cells": [
  {
   "cell_type": "code",
   "execution_count": 1,
   "id": "6730a92c",
   "metadata": {},
   "outputs": [],
   "source": [
    "import shutil\n",
    "import os\n",
    "\n",
    "from langchain_chroma import Chroma\n",
    "from langchain_openai import OpenAIEmbeddings\n",
    "\n",
    "embedding_function = OpenAIEmbeddings(model=\"text-embedding-3-large\")\n",
    "\n",
    "vector_store = Chroma(\n",
    "    embedding_function=embedding_function, \n",
    "    collection_name=\"income_tax_collection\",\n",
    "    persist_directory=\"./income_tax_collection\"\n",
    ")\n",
    "retriever = vector_store.as_retriever(search_kwargs={\"k\": 3})"
   ]
  },
  {
   "cell_type": "code",
   "execution_count": 2,
   "id": "46af7c5a",
   "metadata": {},
   "outputs": [],
   "source": [
    "from typing_extensions import List, TypedDict\n",
    "from langchain_core.documents import Document\n",
    "from langgraph.graph import StateGraph\n",
    "\n",
    "class AgentState(TypedDict):\n",
    "    query: str\n",
    "    context: List[Document]\n",
    "    answer: str\n",
    "\n",
    "graph_builder = StateGraph(AgentState)"
   ]
  },
  {
   "cell_type": "code",
   "execution_count": 3,
   "id": "7c2d10ce",
   "metadata": {},
   "outputs": [],
   "source": [
    "def retrieve(state: AgentState):\n",
    "    query = state['query']\n",
    "    docs = retriever.invoke(query)\n",
    "    return {'context': docs}"
   ]
  },
  {
   "cell_type": "code",
   "execution_count": 4,
   "id": "bfafe4cc",
   "metadata": {},
   "outputs": [],
   "source": [
    "from langchain_openai import ChatOpenAI\n",
    "\n",
    "llm = ChatOpenAI(model=\"gpt-4o\")"
   ]
  },
  {
   "cell_type": "code",
   "execution_count": 5,
   "id": "c9ffb073",
   "metadata": {},
   "outputs": [
    {
     "name": "stderr",
     "output_type": "stream",
     "text": [
      "/Users/hippoo/Desktop/SoMA/e-learning/langgraph/.venv/lib/python3.13/site-packages/langsmith/client.py:256: LangSmithMissingAPIKeyWarning: API key must be provided when using hosted LangSmith API\n",
      "  warnings.warn(\n"
     ]
    }
   ],
   "source": [
    "from langchain import hub\n",
    "\n",
    "generate_prompt = hub.pull(\"rlm/rag-prompt\")\n",
    "\n",
    "def generate(state: AgentState):\n",
    "    context = state['context']\n",
    "    query = state['query']\n",
    "    rag_chain = generate_prompt | llm\n",
    "    response = rag_chain.invoke({'question': query, 'context': context})\n",
    "    return {'answer': response}"
   ]
  },
  {
   "cell_type": "code",
   "execution_count": 6,
   "id": "5d2f6bb9",
   "metadata": {},
   "outputs": [
    {
     "name": "stderr",
     "output_type": "stream",
     "text": [
      "/Users/hippoo/Desktop/SoMA/e-learning/langgraph/.venv/lib/python3.13/site-packages/langsmith/client.py:256: LangSmithMissingAPIKeyWarning: API key must be provided when using hosted LangSmith API\n",
      "  warnings.warn(\n"
     ]
    }
   ],
   "source": [
    "from langchain import hub\n",
    "from typing import Literal\n",
    "\n",
    "doc_relevance_prompt = hub.pull(\"langchain-ai/rag-document-relevance\")\n",
    "\n",
    "def check_doc_relevance(state: AgentState) -> Literal['generate', 'rewrite']:\n",
    "    query = state['query']\n",
    "    context = state['context']\n",
    "    print(f'context: {context}')\n",
    "    doc_relevance_chain = doc_relevance_prompt | llm\n",
    "    response = doc_relevance_chain.invoke({'question': query, 'documents': context})\n",
    "    print(f'response: {response}')\n",
    "    if response['Score'] == 1:\n",
    "        return 'generate'\n",
    "    return 'rewrite'\n"
   ]
  },
  {
   "cell_type": "code",
   "execution_count": 7,
   "id": "9ccd7c33",
   "metadata": {},
   "outputs": [],
   "source": [
    "query  = '연봉 5천만원 직장인의 소득세는?'"
   ]
  },
  {
   "cell_type": "code",
   "execution_count": 8,
   "id": "39fb92fe",
   "metadata": {},
   "outputs": [],
   "source": [
    "from langchain_core.prompts import PromptTemplate\n",
    "from langchain_core.output_parsers import StrOutputParser\n",
    "\n",
    "dictionary = ['사람과 관련된 표현 -> 거주자']\n",
    "\n",
    "rewrite_prompt = PromptTemplate.from_template(f\"\"\"\n",
    "사용자의 질문을 보고, 우리의 사전을 참고해서 사용자의 질문을 변경해주세요.\n",
    "사전: {dictionary}\n",
    "질문: {{query}}\n",
    "\"\"\")\n",
    "\n",
    "def rewrite(state: AgentState):\n",
    "    query = state['query']\n",
    "    rewrite_chain = rewrite_prompt | llm | StrOutputParser()\n",
    "\n",
    "    response = rewrite_chain.invoke({'query': query})\n",
    "    return {'query': response}"
   ]
  },
  {
   "cell_type": "code",
   "execution_count": 9,
   "id": "092cd91c",
   "metadata": {},
   "outputs": [
    {
     "data": {
      "text/plain": [
       "<langgraph.graph.state.StateGraph at 0x1234981a0>"
      ]
     },
     "execution_count": 9,
     "metadata": {},
     "output_type": "execute_result"
    }
   ],
   "source": [
    "graph_builder.add_node('retrieve', retrieve)\n",
    "graph_builder.add_node('generate', generate)\n",
    "graph_builder.add_node('rewrite', rewrite)"
   ]
  },
  {
   "cell_type": "code",
   "execution_count": 10,
   "id": "06ffac49",
   "metadata": {},
   "outputs": [
    {
     "data": {
      "text/plain": [
       "<langgraph.graph.state.StateGraph at 0x1234981a0>"
      ]
     },
     "execution_count": 10,
     "metadata": {},
     "output_type": "execute_result"
    }
   ],
   "source": [
    "from langgraph.graph import START, END\n",
    "\n",
    "\n",
    "graph_builder.add_edge(START, 'retrieve')\n",
    "graph_builder.add_conditional_edges('retrieve', check_doc_relevance)\n",
    "graph_builder.add_edge('rewrite', 'retrieve')\n",
    "graph_builder.add_edge('generate', END)"
   ]
  },
  {
   "cell_type": "code",
   "execution_count": 11,
   "id": "6dbf7069",
   "metadata": {},
   "outputs": [],
   "source": [
    "graph = graph_builder.compile()"
   ]
  },
  {
   "cell_type": "code",
   "execution_count": 12,
   "id": "92299959",
   "metadata": {},
   "outputs": [
    {
     "data": {
      "image/png": "[encoded data removed]",
      "text/plain": [
       "<IPython.core.display.Image object>"
      ]
     },
     "metadata": {},
     "output_type": "display_data"
    }
   ],
   "source": [
    "from IPython.display import Image, display\n",
    "\n",
    "display(Image(graph.get_graph().draw_mermaid_png()))"
   ]
  },
  {
   "cell_type": "code",
   "execution_count": 14,
   "id": "feaa574d",
   "metadata": {},
   "outputs": [
    {
     "name": "stdout",
     "output_type": "stream",
     "text": [
      "context: [Document(metadata={'source': './documents/income_tax.txt'}, page_content='|--------------------|---------------------------------------------|\\n| 5,000만원 이하      | 총 급여액의 100분의 70                      |\\n| 5,000만원 초과 1천 5,000만원 이하 | 3,500만원 + (5,000만원을 초과하는 금액의 100분의 40) |\\n| 1천 5,000만원 초과 4천 5,000만원 이하 | 7,500만원 + (1천 5,000만원을 초과하는 금액의 100분의 15) |\\n| 4천 5,000만원 초과 1억원 이하 | 1천 2백만원 + (4천 5,000만원을 초과하는 금액의 100분의 5) |\\n| 1억원 초과         | 1천 475만원 + (1억원을 초과하는 금액의 100분의 2) |\\n② 일용근로자에 대한 공제액은 제1항에도 불구하고 1일 15만원으로 한다.<개정 2018. 12. 31.>\\n③ 근로소득이 있는 거주자의 해당 과세기간의 총급여액이 제1항 또는 제2항의 공제액에 미달하는 경우에는 그 총급여액을 공제액으로 한다.\\n④ 제1항부터 제3항까지의 규정에 따른 공제를 \"근로소득공제\"라 한다.\\n⑤ 제1항의 경우에 2인 이상으로부터 근로소득을 받는 사람(일용근로자는 제외한다)에 대하여는 그 근로소득의 합계액을 총급여액으로 하여 제1항에 따라 계산한 근로소득공제액을 총급여액에서 공제한다.<개정 2010. 12. 27.>\\n⑥ 삭제<2010. 12. 27.>\\n[전문개정 2009. 12. 31.]\\n소득세법\\n제47조의2(연금소득공제) ① 연금소득이 있는 거주자에 대해서는 해당 과세기간에 받은 총연금금액(분리과세연금소득은 제외하며, 이하 이 항에서 같다)에서 다음 표에 규정된 금액을 공제한다. 다만, 공제액이 900만원을 초과하는 경우에는 900만원을 공제한다. <개정 2013. 1. 1.>\\n| 총연금액        | 공제액                                     |\\n|-----------------|-------------------------------------------|\\n| 35만원 이하     | 총연금액                                  |\\n| 35만원 초과 700만원 이하 | 350만원 + (35만원을 초과하는 금액의 100분의 40)   |\\n| 700만원 초과 1400만원 이하 | 490만원 + (700만원을 초과하는 금액의 100분의 20)  |\\n| 1400만원 초과   | 630만원 + (1400만원을 초과하는 금액의 100분의 10)  |\\n② 제1항에 따른 공제를 \"연금소득공제\"라 한다.\\n[전문개정 2009. 12. 31.]'), Document(metadata={'source': './documents/income_tax.txt'}, page_content='다. 제16조제1항제10호에 따른 직장공제회 초과반환금에 대해서는 기본세율\\n라. 그 밖의 이자소득에 대해서는 100분의 14\\n2. 배당소득에 대해서는 다음에 규정하는 세율\\n가. 제17조제1항제8호에 따른 출자공동사업자의 배당소득에 대해서는 100분의 25\\n나. 그 밖의 배당소득에 대해서는 100분의 14\\n3. 원천징수대상 사업소득에 대해서는 100분의 3. 다만, 외국인 직업운동가가 한국프로출산업류에 따른 스포츠 클럽 운영업 중 프로스포츠구단과의 계약에 따라 용역을 제공하고 받는 소득에 대해서는 100분의 20으로 한다.\\n4. 근로소득에 대해서는 기본세율. 다만, 일용근로자의 근로소득에 대해서는 100분의 6으로 한다.\\n5. 공적연금소득에 대해서는 기본세율\\n5의2. 제20조의3제1항제2호나목 및 다목에 따른 연금계좌 납입액이나 운용실적에 따라 증가된 금액을 연금수령한 연금소득에 대해서는 다음 각 목의 구분에 따른 세율. 이 경우 각 목의 요건을 동시에 충족하는 때에는 낮은 세율을 적용한다.\\n가. 연금소득자의 나이에 따른 다음의 세율\\n| 나이(연금수령일 현재) | 세율       |\\n|----------------------|------------|\\n| 70세 미만            | 100분의 5  |\\n| 70세 이상 80세 미만   | 100분의 4  |\\n| 80세 이상            | 100분의 3  |\\n나. 삭제<2014. 12. 23.>\\n다. 사망할 때까지 연금수령하는 대통령령으로 정하는 종신계약에 따라 받는 연금소득에 대해서는 100분의 4\\n5의3. 제20조의3제1항제2호가목에 따라 퇴직소득을 연금수령하는 연금소득에 대해서는 다음 각 목의 구분에 따른 세율. 이 경우 연금 실세 수령연차 및 연금외수령 원천징수세율의 구체적인 내용은 대통령령으로 정한다.\\n가. 연금 실제 수령연차가 10년 이하인 경우: 연금익수령 원천징수세율이 100분의 70\\n나. 연금 실제 수령연차가 10년을 초과하는 경우: 연금외수령 원천징수세율의 100분의 60\\n소득세법'), Document(metadata={'source': './documents/income_tax.txt'}, page_content='| 5백만원 이하          | 총 급여액의 100분의 70           |\\n| 5백만원 초과 1천 5백만원 이하 | 350만원+(5백만원을 초과하는 금액의 100분의 40) |\\n| 1천 5백만원 초과 4천 5백만원 이하 | 750만원+(1천 5백만원을 초과하는 금액의 100분의 15) |\\n| 4천 5백만원 초과 1억원 이하 | 1천 200만원+(4천 5백만원을 초과하는 금액의 100분의 5) |\\n| 1억원 초과            | 1천 475만원+(1억원을 초과하는 금액의 100분의 2) |\\n② 일용근로자에 대한 공제액은 제1항에도 불구하고 1일 15만원으로 한다.<개정 2018. 12. 31.>\\n③ 근로소득이 있는 거주자의 해당 과세기간의 총급여액이 제1항 또는 제2항의 공제액에 미달하는 경우에는 그 총급여액을 공제액으로 한다.\\n④ 제1항부터 제3항까지의 규정에 따른 공제를 “근로소득공제”라 한다.\\n⑤ 제1항의 경우에 2인 이상으로부터 근로소득을 받는 사람(일용근로자는 제외한다)에 대하여는 그 근로소득의 합계액을 총급여액으로 하여 제1항에 따라 계산한 근로소득공제액을 총급여액에서 공제한다.<개정 2010. 12. 27.>\\n⑥ 삭제<2010. 12. 27.>\\n[전문개정 2009. 12. 31.]\\n소득세법\\n제47조의2(연금소득공제) ①연금소득이 있는 거주자에 대해서는 해당 과세기간에 받은 총연금액(분리과세연금소득은 제외하며, 이하 이 항에서 같다)에서 다음 표에 규정된 금액을 공제한다. 다만, 공제액이 900만원을 초과하는 경우에는 900만원을 공제한다. <개정 2013. 1. 1.>\\n| 총연금액             | 공제액                              |\\n|----------------------|-----------------------------------|\\n| 35만원 이하          | 총연금액                          |\\n| 35만원 초과 700만원 이하 | 350만원 + (350만원을 초과하는 금액의 100분의 40)    |\\n| 700만원 초과 1400만원 이하 | 490만원 + (700만원을 초과하는 금액의 100분의 20)   |\\n| 1400만원 초과        | 630만원 + (1400만원을 초과하는 금액의 100분의 10)  |\\n② 제1항에 따른 공제를 \"연금소득공제\"라 한다.\\n[전문개정 2009. 12. 31.]  \\n제48조(퇴직소득공제) ① 퇴직소득이 있는 거주자에 대해서는 해당 과세기간의 퇴직소득금액에서 제1호의 구분에 따른 금액을 공제하고, 그 금액을 근속연수(1년 미만의 기간이 있는 경우에는 이를 1년으로 보며, 제2조제1항제1호의 경우에는 대통령령으로 정하는 방법에 따라 계산한 연수를 말한다. 이하 같다)로 나누고 12를 곱한 후의 금액(이하 이 항에서 \"환산급여\"라 한다)에서 제2호의 구분에 따른 금액을 공제한다. <개정 2014. 12. 23., 2022. 12. 31.>\\n1. 근속연수에 따라 정한 다음의 금액')]\n",
      "response: {'Score': 1, 'Explanation': 'The question asks about the income tax for a salary of 50 million won. The facts provided contain relevant information regarding the calculation of income tax for different salary ranges, specifically mentioning how to calculate deductions and taxes for salaries below and above 50 million won. \\n\\nFor instance, the fact that 5,000만원 이하 (below 50 million won) is taxed at 70% of the total salary is directly applicable to the question, as it provides the exact tax rate for the mentioned salary range. Additionally, the information on tax brackets and deductions for salaries above and below certain thresholds provides context for understanding how income tax is calculated in the given scenario.\\n\\nTherefore, the facts contain relevant keywords and semantic meaning related to the question, making them related and applicable. Hence, a score of 1 is appropriate.'}\n"
     ]
    },
    {
     "data": {
      "text/plain": [
       "{'query': '연봉 5천만원 직장인의 소득세는?',\n",
       " 'context': [Document(metadata={'source': './documents/income_tax.txt'}, page_content='|--------------------|---------------------------------------------|\\n| 5,000만원 이하      | 총 급여액의 100분의 70                      |\\n| 5,000만원 초과 1천 5,000만원 이하 | 3,500만원 + (5,000만원을 초과하는 금액의 100분의 40) |\\n| 1천 5,000만원 초과 4천 5,000만원 이하 | 7,500만원 + (1천 5,000만원을 초과하는 금액의 100분의 15) |\\n| 4천 5,000만원 초과 1억원 이하 | 1천 2백만원 + (4천 5,000만원을 초과하는 금액의 100분의 5) |\\n| 1억원 초과         | 1천 475만원 + (1억원을 초과하는 금액의 100분의 2) |\\n② 일용근로자에 대한 공제액은 제1항에도 불구하고 1일 15만원으로 한다.<개정 2018. 12. 31.>\\n③ 근로소득이 있는 거주자의 해당 과세기간의 총급여액이 제1항 또는 제2항의 공제액에 미달하는 경우에는 그 총급여액을 공제액으로 한다.\\n④ 제1항부터 제3항까지의 규정에 따른 공제를 \"근로소득공제\"라 한다.\\n⑤ 제1항의 경우에 2인 이상으로부터 근로소득을 받는 사람(일용근로자는 제외한다)에 대하여는 그 근로소득의 합계액을 총급여액으로 하여 제1항에 따라 계산한 근로소득공제액을 총급여액에서 공제한다.<개정 2010. 12. 27.>\\n⑥ 삭제<2010. 12. 27.>\\n[전문개정 2009. 12. 31.]\\n소득세법\\n제47조의2(연금소득공제) ① 연금소득이 있는 거주자에 대해서는 해당 과세기간에 받은 총연금금액(분리과세연금소득은 제외하며, 이하 이 항에서 같다)에서 다음 표에 규정된 금액을 공제한다. 다만, 공제액이 900만원을 초과하는 경우에는 900만원을 공제한다. <개정 2013. 1. 1.>\\n| 총연금액        | 공제액                                     |\\n|-----------------|-------------------------------------------|\\n| 35만원 이하     | 총연금액                                  |\\n| 35만원 초과 700만원 이하 | 350만원 + (35만원을 초과하는 금액의 100분의 40)   |\\n| 700만원 초과 1400만원 이하 | 490만원 + (700만원을 초과하는 금액의 100분의 20)  |\\n| 1400만원 초과   | 630만원 + (1400만원을 초과하는 금액의 100분의 10)  |\\n② 제1항에 따른 공제를 \"연금소득공제\"라 한다.\\n[전문개정 2009. 12. 31.]'),\n",
       "  Document(metadata={'source': './documents/income_tax.txt'}, page_content='다. 제16조제1항제10호에 따른 직장공제회 초과반환금에 대해서는 기본세율\\n라. 그 밖의 이자소득에 대해서는 100분의 14\\n2. 배당소득에 대해서는 다음에 규정하는 세율\\n가. 제17조제1항제8호에 따른 출자공동사업자의 배당소득에 대해서는 100분의 25\\n나. 그 밖의 배당소득에 대해서는 100분의 14\\n3. 원천징수대상 사업소득에 대해서는 100분의 3. 다만, 외국인 직업운동가가 한국프로출산업류에 따른 스포츠 클럽 운영업 중 프로스포츠구단과의 계약에 따라 용역을 제공하고 받는 소득에 대해서는 100분의 20으로 한다.\\n4. 근로소득에 대해서는 기본세율. 다만, 일용근로자의 근로소득에 대해서는 100분의 6으로 한다.\\n5. 공적연금소득에 대해서는 기본세율\\n5의2. 제20조의3제1항제2호나목 및 다목에 따른 연금계좌 납입액이나 운용실적에 따라 증가된 금액을 연금수령한 연금소득에 대해서는 다음 각 목의 구분에 따른 세율. 이 경우 각 목의 요건을 동시에 충족하는 때에는 낮은 세율을 적용한다.\\n가. 연금소득자의 나이에 따른 다음의 세율\\n| 나이(연금수령일 현재) | 세율       |\\n|----------------------|------------|\\n| 70세 미만            | 100분의 5  |\\n| 70세 이상 80세 미만   | 100분의 4  |\\n| 80세 이상            | 100분의 3  |\\n나. 삭제<2014. 12. 23.>\\n다. 사망할 때까지 연금수령하는 대통령령으로 정하는 종신계약에 따라 받는 연금소득에 대해서는 100분의 4\\n5의3. 제20조의3제1항제2호가목에 따라 퇴직소득을 연금수령하는 연금소득에 대해서는 다음 각 목의 구분에 따른 세율. 이 경우 연금 실세 수령연차 및 연금외수령 원천징수세율의 구체적인 내용은 대통령령으로 정한다.\\n가. 연금 실제 수령연차가 10년 이하인 경우: 연금익수령 원천징수세율이 100분의 70\\n나. 연금 실제 수령연차가 10년을 초과하는 경우: 연금외수령 원천징수세율의 100분의 60\\n소득세법'),\n",
       "  Document(metadata={'source': './documents/income_tax.txt'}, page_content='| 5백만원 이하          | 총 급여액의 100분의 70           |\\n| 5백만원 초과 1천 5백만원 이하 | 350만원+(5백만원을 초과하는 금액의 100분의 40) |\\n| 1천 5백만원 초과 4천 5백만원 이하 | 750만원+(1천 5백만원을 초과하는 금액의 100분의 15) |\\n| 4천 5백만원 초과 1억원 이하 | 1천 200만원+(4천 5백만원을 초과하는 금액의 100분의 5) |\\n| 1억원 초과            | 1천 475만원+(1억원을 초과하는 금액의 100분의 2) |\\n② 일용근로자에 대한 공제액은 제1항에도 불구하고 1일 15만원으로 한다.<개정 2018. 12. 31.>\\n③ 근로소득이 있는 거주자의 해당 과세기간의 총급여액이 제1항 또는 제2항의 공제액에 미달하는 경우에는 그 총급여액을 공제액으로 한다.\\n④ 제1항부터 제3항까지의 규정에 따른 공제를 “근로소득공제”라 한다.\\n⑤ 제1항의 경우에 2인 이상으로부터 근로소득을 받는 사람(일용근로자는 제외한다)에 대하여는 그 근로소득의 합계액을 총급여액으로 하여 제1항에 따라 계산한 근로소득공제액을 총급여액에서 공제한다.<개정 2010. 12. 27.>\\n⑥ 삭제<2010. 12. 27.>\\n[전문개정 2009. 12. 31.]\\n소득세법\\n제47조의2(연금소득공제) ①연금소득이 있는 거주자에 대해서는 해당 과세기간에 받은 총연금액(분리과세연금소득은 제외하며, 이하 이 항에서 같다)에서 다음 표에 규정된 금액을 공제한다. 다만, 공제액이 900만원을 초과하는 경우에는 900만원을 공제한다. <개정 2013. 1. 1.>\\n| 총연금액             | 공제액                              |\\n|----------------------|-----------------------------------|\\n| 35만원 이하          | 총연금액                          |\\n| 35만원 초과 700만원 이하 | 350만원 + (350만원을 초과하는 금액의 100분의 40)    |\\n| 700만원 초과 1400만원 이하 | 490만원 + (700만원을 초과하는 금액의 100분의 20)   |\\n| 1400만원 초과        | 630만원 + (1400만원을 초과하는 금액의 100분의 10)  |\\n② 제1항에 따른 공제를 \"연금소득공제\"라 한다.\\n[전문개정 2009. 12. 31.]  \\n제48조(퇴직소득공제) ① 퇴직소득이 있는 거주자에 대해서는 해당 과세기간의 퇴직소득금액에서 제1호의 구분에 따른 금액을 공제하고, 그 금액을 근속연수(1년 미만의 기간이 있는 경우에는 이를 1년으로 보며, 제2조제1항제1호의 경우에는 대통령령으로 정하는 방법에 따라 계산한 연수를 말한다. 이하 같다)로 나누고 12를 곱한 후의 금액(이하 이 항에서 \"환산급여\"라 한다)에서 제2호의 구분에 따른 금액을 공제한다. <개정 2014. 12. 23., 2022. 12. 31.>\\n1. 근속연수에 따라 정한 다음의 금액')],\n",
       " 'answer': AIMessage(content='연봉 5천만 원 이하의 직장인은 총 급여액의 70%를 소득세로 공제받습니다. 따라서, 연봉 5천만 원인 직장인의 소득세는 3,500만 원입니다.', additional_kwargs={'refusal': None}, response_metadata={'token_usage': {'completion_tokens': 55, 'prompt_tokens': 2418, 'total_tokens': 2473, 'completion_tokens_details': {'accepted_prediction_tokens': 0, 'audio_tokens': 0, 'reasoning_tokens': 0, 'rejected_prediction_tokens': 0}, 'prompt_tokens_details': {'audio_tokens': 0, 'cached_tokens': 0}}, 'model_name': 'gpt-4o-2024-08-06', 'system_fingerprint': 'fp_07871e2ad8', 'finish_reason': 'stop', 'logprobs': None}, id='run--524924b8-f232-4195-97a5-eabbc8eb88a0-0', usage_metadata={'input_tokens': 2418, 'output_tokens': 55, 'total_tokens': 2473, 'input_token_details': {'audio': 0, 'cache_read': 0}, 'output_token_details': {'audio': 0, 'reasoning': 0}})}"
      ]
     },
     "execution_count": 14,
     "metadata": {},
     "output_type": "execute_result"
    }
   ],
   "source": [
    "initial_state = {'query': query}\n",
    "graph.invoke(initial_state)"
   ]
  },
  {
   "cell_type": "code",
   "execution_count": null,
   "id": "9c9247e3",
   "metadata": {},
   "outputs": [],
   "source": []
  }
 ],
 "metadata": {
  "kernelspec": {
   "display_name": ".venv",
   "language": "python",
   "name": "python3"
  },
  "language_info": {
   "codemirror_mode": {
    "name": "ipython",
    "version": 3
   },
   "file_extension": ".py",
   "mimetype": "text/x-python",
   "name": "python",
   "nbconvert_exporter": "python",
   "pygments_lexer": "ipython3",
   "version": "3.13.5"
  }
 },
 "nbformat": 4,
 "nbformat_minor": 5
}
