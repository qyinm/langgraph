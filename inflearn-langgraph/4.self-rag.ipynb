{
 "cells": [
  {
   "cell_type": "code",
   "execution_count": 1,
   "id": "b008ac7f",
   "metadata": {},
   "outputs": [],
   "source": [
    "from langchain_chroma import Chroma\n",
    "from langchain_openai import OpenAIEmbeddings\n",
    "\n",
    "embedding_function = OpenAIEmbeddings(model=\"text-embedding-3-large\")\n",
    "\n",
    "vector_store = Chroma(\n",
    "    embedding_function=embedding_function, \n",
    "    collection_name=\"income_tax_collection\",\n",
    "    persist_directory=\"./income_tax_collection\"\n",
    ")\n",
    "retriever = vector_store.as_retriever(search_kwargs={\"k\": 3})"
   ]
  },
  {
   "cell_type": "code",
   "execution_count": 2,
   "id": "636cd709",
   "metadata": {},
   "outputs": [],
   "source": [
    "from typing_extensions import List, TypedDict\n",
    "from langchain_core.documents import Document\n",
    "from langgraph.graph import StateGraph\n",
    "\n",
    "class AgentState(TypedDict):\n",
    "    query: str\n",
    "    context: List[Document]\n",
    "    answer: str\n",
    "\n",
    "graph_builder = StateGraph(AgentState)"
   ]
  },
  {
   "cell_type": "code",
   "execution_count": 3,
   "id": "80807464",
   "metadata": {},
   "outputs": [],
   "source": [
    "def retrieve(state: AgentState):\n",
    "    query = state['query']\n",
    "    docs = retriever.invoke(query)\n",
    "    return {'context': docs}"
   ]
  },
  {
   "cell_type": "code",
   "execution_count": 4,
   "id": "7f9585b7",
   "metadata": {},
   "outputs": [],
   "source": [
    "from langchain_openai import ChatOpenAI\n",
    "\n",
    "llm = ChatOpenAI(model=\"gpt-4o\")"
   ]
  },
  {
   "cell_type": "code",
   "execution_count": 5,
   "id": "9b7ca931",
   "metadata": {},
   "outputs": [],
   "source": [
    "from langchain import hub\n",
    "\n",
    "generate_prompt = hub.pull(\"rlm/rag-prompt\")\n",
    "\n",
    "def generate(state: AgentState):\n",
    "    context = state['context']\n",
    "    query = state['query']\n",
    "    rag_chain = generate_prompt | llm\n",
    "    response = rag_chain.invoke({'question': query, 'context': context})\n",
    "    return {'answer': response}"
   ]
  },
  {
   "cell_type": "code",
   "execution_count": 6,
   "id": "ab3133ab",
   "metadata": {},
   "outputs": [],
   "source": [
    "from langchain import hub\n",
    "from typing import Literal\n",
    "\n",
    "doc_relevance_prompt = hub.pull(\"langchain-ai/rag-document-relevance\")\n",
    "\n",
    "def check_doc_relevance(state: AgentState) -> Literal['relevant', 'irrelevant']:\n",
    "    query = state['query']\n",
    "    context = state['context']\n",
    "    print(f'context: {context}')\n",
    "    doc_relevance_chain = doc_relevance_prompt | llm\n",
    "    response = doc_relevance_chain.invoke({'question': query, 'documents': context})\n",
    "    print(f'response: {response}')\n",
    "\n",
    "    if response['Score'] == 1:\n",
    "        return 'relevant'\n",
    "    return 'irrelevant'\n"
   ]
  },
  {
   "cell_type": "code",
   "execution_count": 7,
   "id": "7a9f8285",
   "metadata": {},
   "outputs": [],
   "source": [
    "from langchain_core.prompts import PromptTemplate\n",
    "from langchain_core.output_parsers import StrOutputParser\n",
    "\n",
    "dictionary = ['사람과 관련된 표현 -> 거주자']\n",
    "\n",
    "rewrite_prompt = PromptTemplate.from_template(f\"\"\"\n",
    "사용자의 질문을 보고, 우리의 사전을 참고해서 사용자의 질문을 변경해주세요.\n",
    "사전: {dictionary}\n",
    "질문: {{query}}\n",
    "\"\"\")\n",
    "\n",
    "def rewrite(state: AgentState):\n",
    "    query = state['query']\n",
    "    rewrite_chain = rewrite_prompt | llm | StrOutputParser()\n",
    "\n",
    "    response = rewrite_chain.invoke({'query': query})\n",
    "    return {'query': response}"
   ]
  },
  {
   "cell_type": "code",
   "execution_count": 24,
   "id": "f50cf967",
   "metadata": {},
   "outputs": [
    {
     "ename": "NameError",
     "evalue": "name 'facts' is not defined",
     "output_type": "error",
     "traceback": [
      "\u001b[0;31m---------------------------------------------------------------------------\u001b[0m",
      "\u001b[0;31mNameError\u001b[0m                                 Traceback (most recent call last)",
      "Cell \u001b[0;32mIn[24], line 8\u001b[0m\n\u001b[1;32m      1\u001b[0m \u001b[38;5;28;01mfrom\u001b[39;00m \u001b[38;5;21;01mlangchain_core\u001b[39;00m\u001b[38;5;21;01m.\u001b[39;00m\u001b[38;5;21;01mprompts\u001b[39;00m \u001b[38;5;28;01mimport\u001b[39;00m PromptTemplate\n\u001b[1;32m      2\u001b[0m hallucination_prompt \u001b[38;5;241m=\u001b[39m PromptTemplate\u001b[38;5;241m.\u001b[39mfrom_template(\u001b[38;5;124mf\u001b[39m\u001b[38;5;124m\"\"\"\u001b[39m\n\u001b[1;32m      3\u001b[0m \u001b[38;5;124mYou are a teacher tasked with evaluating whether a student\u001b[39m\u001b[38;5;124m'\u001b[39m\u001b[38;5;124ms answer is based on facts or not,\u001b[39m\n\u001b[1;32m      4\u001b[0m \u001b[38;5;124mGiven facts, which are excerpts from income tax law, and a student\u001b[39m\u001b[38;5;124m'\u001b[39m\u001b[38;5;124ms answer;\u001b[39m\n\u001b[1;32m      5\u001b[0m \u001b[38;5;124mIF the student\u001b[39m\u001b[38;5;124m'\u001b[39m\u001b[38;5;124ms answer is based on facts, return \u001b[39m\u001b[38;5;124m'\u001b[39m\u001b[38;5;124munhallucinated\u001b[39m\u001b[38;5;124m'\u001b[39m\n\u001b[1;32m      6\u001b[0m \u001b[38;5;124mIF the student\u001b[39m\u001b[38;5;124m'\u001b[39m\u001b[38;5;124ms answer is not based on facts, return \u001b[39m\u001b[38;5;124m'\u001b[39m\u001b[38;5;124mhallucinated\u001b[39m\u001b[38;5;124m'\u001b[39m\n\u001b[1;32m      7\u001b[0m \n\u001b[0;32m----> 8\u001b[0m \u001b[38;5;124mfacts: \u001b[39m\u001b[38;5;132;01m{\u001b[39;00m\u001b[43mfacts\u001b[49m\u001b[38;5;132;01m}\u001b[39;00m\n\u001b[1;32m      9\u001b[0m \u001b[38;5;124mstudent_answer: \u001b[39m\u001b[38;5;132;01m{\u001b[39;00mstudent_answer\u001b[38;5;132;01m}\u001b[39;00m\n\u001b[1;32m     10\u001b[0m \u001b[38;5;124m\"\"\"\u001b[39m)\n\u001b[1;32m     12\u001b[0m \u001b[38;5;28;01mdef\u001b[39;00m \u001b[38;5;21mcheck_hallucination\u001b[39m(state: AgentState):\n\u001b[1;32m     13\u001b[0m     answer \u001b[38;5;241m=\u001b[39m state[\u001b[38;5;124m'\u001b[39m\u001b[38;5;124manswer\u001b[39m\u001b[38;5;124m'\u001b[39m]\n",
      "\u001b[0;31mNameError\u001b[0m: name 'facts' is not defined"
     ]
    }
   ],
   "source": [
    "from langchain_core.prompts import PromptTemplate\n",
    "hallucination_prompt = PromptTemplate.from_template(f\"\"\"\n",
    "You are a teacher tasked with evaluating whether a student's answer is based on facts or not,\n",
    "Given facts, which are excerpts from income tax law, and a student's answer;\n",
    "IF the student's answer is based on facts, return 'unhallucinated'\n",
    "IF the student's answer is not based on facts, return 'hallucinated'\n",
    "\n",
    "facts: {facts}\n",
    "student_answer: {student_answer}\n",
    "\"\"\")\n",
    "\n",
    "def check_hallucination(state: AgentState):\n",
    "    answer = state['answer']\n",
    "    context = state['context']\n",
    "    hallucination_chain = hallucination_prompt | llm\n",
    "    response = hallucination_chain.invoke({'student_answer': answer, 'facts': context})\n",
    "    print(f'response: {response.content}')\n",
    "\n",
    "    return response\n",
    "    "
   ]
  },
  {
   "cell_type": "code",
   "execution_count": 25,
   "id": "3346dba6",
   "metadata": {},
   "outputs": [
    {
     "name": "stdout",
     "output_type": "stream",
     "text": [
      "document start\n",
      "|--------------------|---------------------------------------------|\n",
      "| 5,000만원 이하      | 총 급여액의 100분의 70                      |\n",
      "| 5,000만원 초과 1천 5,000만원 이하 | 3,500만원 + (5,000만원을 초과하는 금액의 100분의 40) |\n",
      "| 1천 5,000만원 초과 4천 5,000만원 이하 | 7,500만원 + (1천 5,000만원을 초과하는 금액의 100분의 15) |\n",
      "| 4천 5,000만원 초과 1억원 이하 | 1천 2백만원 + (4천 5,000만원을 초과하는 금액의 100분의 5) |\n",
      "| 1억원 초과         | 1천 475만원 + (1억원을 초과하는 금액의 100분의 2) |\n",
      "② 일용근로자에 대한 공제액은 제1항에도 불구하고 1일 15만원으로 한다.<개정 2018. 12. 31.>\n",
      "③ 근로소득이 있는 거주자의 해당 과세기간의 총급여액이 제1항 또는 제2항의 공제액에 미달하는 경우에는 그 총급여액을 공제액으로 한다.\n",
      "④ 제1항부터 제3항까지의 규정에 따른 공제를 \"근로소득공제\"라 한다.\n",
      "⑤ 제1항의 경우에 2인 이상으로부터 근로소득을 받는 사람(일용근로자는 제외한다)에 대하여는 그 근로소득의 합계액을 총급여액으로 하여 제1항에 따라 계산한 근로소득공제액을 총급여액에서 공제한다.<개정 2010. 12. 27.>\n",
      "⑥ 삭제<2010. 12. 27.>\n",
      "[전문개정 2009. 12. 31.]\n",
      "소득세법\n",
      "제47조의2(연금소득공제) ① 연금소득이 있는 거주자에 대해서는 해당 과세기간에 받은 총연금금액(분리과세연금소득은 제외하며, 이하 이 항에서 같다)에서 다음 표에 규정된 금액을 공제한다. 다만, 공제액이 900만원을 초과하는 경우에는 900만원을 공제한다. <개정 2013. 1. 1.>\n",
      "| 총연금액        | 공제액                                     |\n",
      "|-----------------|-------------------------------------------|\n",
      "| 35만원 이하     | 총연금액                                  |\n",
      "| 35만원 초과 700만원 이하 | 350만원 + (35만원을 초과하는 금액의 100분의 40)   |\n",
      "| 700만원 초과 1400만원 이하 | 490만원 + (700만원을 초과하는 금액의 100분의 20)  |\n",
      "| 1400만원 초과   | 630만원 + (1400만원을 초과하는 금액의 100분의 10)  |\n",
      "② 제1항에 따른 공제를 \"연금소득공제\"라 한다.\n",
      "[전문개정 2009. 12. 31.]\n",
      "| 5백만원 이하          | 총 급여액의 100분의 70           |\n",
      "| 5백만원 초과 1천 5백만원 이하 | 350만원+(5백만원을 초과하는 금액의 100분의 40) |\n",
      "| 1천 5백만원 초과 4천 5백만원 이하 | 750만원+(1천 5백만원을 초과하는 금액의 100분의 15) |\n",
      "| 4천 5백만원 초과 1억원 이하 | 1천 200만원+(4천 5백만원을 초과하는 금액의 100분의 5) |\n",
      "| 1억원 초과            | 1천 475만원+(1억원을 초과하는 금액의 100분의 2) |\n",
      "② 일용근로자에 대한 공제액은 제1항에도 불구하고 1일 15만원으로 한다.<개정 2018. 12. 31.>\n",
      "③ 근로소득이 있는 거주자의 해당 과세기간의 총급여액이 제1항 또는 제2항의 공제액에 미달하는 경우에는 그 총급여액을 공제액으로 한다.\n",
      "④ 제1항부터 제3항까지의 규정에 따른 공제를 “근로소득공제”라 한다.\n",
      "⑤ 제1항의 경우에 2인 이상으로부터 근로소득을 받는 사람(일용근로자는 제외한다)에 대하여는 그 근로소득의 합계액을 총급여액으로 하여 제1항에 따라 계산한 근로소득공제액을 총급여액에서 공제한다.<개정 2010. 12. 27.>\n",
      "⑥ 삭제<2010. 12. 27.>\n",
      "[전문개정 2009. 12. 31.]\n",
      "소득세법\n",
      "제47조의2(연금소득공제) ①연금소득이 있는 거주자에 대해서는 해당 과세기간에 받은 총연금액(분리과세연금소득은 제외하며, 이하 이 항에서 같다)에서 다음 표에 규정된 금액을 공제한다. 다만, 공제액이 900만원을 초과하는 경우에는 900만원을 공제한다. <개정 2013. 1. 1.>\n",
      "| 총연금액             | 공제액                              |\n",
      "|----------------------|-----------------------------------|\n",
      "| 35만원 이하          | 총연금액                          |\n",
      "| 35만원 초과 700만원 이하 | 350만원 + (350만원을 초과하는 금액의 100분의 40)    |\n",
      "| 700만원 초과 1400만원 이하 | 490만원 + (700만원을 초과하는 금액의 100분의 20)   |\n",
      "| 1400만원 초과        | 630만원 + (1400만원을 초과하는 금액의 100분의 10)  |\n",
      "② 제1항에 따른 공제를 \"연금소득공제\"라 한다.\n",
      "[전문개정 2009. 12. 31.]  \n",
      "제48조(퇴직소득공제) ① 퇴직소득이 있는 거주자에 대해서는 해당 과세기간의 퇴직소득금액에서 제1호의 구분에 따른 금액을 공제하고, 그 금액을 근속연수(1년 미만의 기간이 있는 경우에는 이를 1년으로 보며, 제2조제1항제1호의 경우에는 대통령령으로 정하는 방법에 따라 계산한 연수를 말한다. 이하 같다)로 나누고 12를 곱한 후의 금액(이하 이 항에서 \"환산급여\"라 한다)에서 제2호의 구분에 따른 금액을 공제한다. <개정 2014. 12. 23., 2022. 12. 31.>\n",
      "1. 근속연수에 따라 정한 다음의 금액\n",
      "권 또는 증권과 타인에게 양도가 가능한 증권으로서 대통령령으로 정하는 것(이하 이 조, 제133조의2 및 제156조의\n",
      "소득세법\n",
      "3에서 “채권등”이라 한다①의 발행법인으로부터 해당 채권등에서 발생하는 이자 또는 할인액(이하 이 조, 제133조의2 및 제156조의3에서 “이자등”이라 한다)을 지급[전환사채의 주식전환, 교환사채의 주식교환 및 신주인수권부사채의 신주인수권행사(신주 발행대금을 해당 신주인수권부사채로 납입하는 경우만 해당한다) 및 전환사채과 금융투자업에 관한 법률] 제4조제7항제3호 ㆍ제3호의2 및 제3호의3에 해당하는 채권등이 주식으로 전환 ㆍ 상환되는 경우를 포함한다. 이하 같다]받거나 해당 채권등을 매도(증여 ㆍ 변제 및 출자 등으로 채권등의 소유권 또는 이자초득의 수급권의 변동이 있는 경우와 매도를 위탁하거나 증거 또는 알선시키는 경우를 포함하되, 환매조건부채권매매거래 등 대통령령으로 정하는 경우는 제외한다. 이하 제133조의2에의거 같다)하는 경우에는 거주자에게 그 보유기간별로 귀속되는 이자등 상당액을 해당 거주자의 제16조에 따른 이자소득으로 보아 소득금액을 계산한다.<개정 2010. 12. 27., 2012. 1. 1., 2020. 12. 29., 2024. 12. 31.>\n",
      "② 제1항을 적용할 때 해당 거주자가 해당 채권등을 보유한 기간을 대통령령으로 정하는 바에 따라 입증하지 못하는 경우에는 제133조의2제1항에 따른 원천징수기간의 이자등 상당액이 해당 거주자에게 귀속되는 것으로 보아 소득금액을 계산한다.<개정 2010. 12. 27.>\n",
      "③ 제1항 및 제2항에 따른 이자등 상당액의 계산방법과 그 밖에 필요한 사항은 대통령령으로 정한다.\n",
      "[전문개정 2009. 12. 31.]\n",
      "제46조의2(중도 해지로 인한 이자소득금액 계산의 특례) 종합소득과세표준 확정신고 후 예금 또는 신탁계약의 중도 해지로 이미 지난 과세기간에 속하는 이자소득금액이 감액된 경우 그 중도 해지일이 속하는 과세기간의 종합소득금액에 포함된 이자소득금액에서 그 감액된 이자소득금액을 뺄 수 있다. 다만, 「국제거래법」 제45조의2에 따라 과세표준 및 세액의 경정(또는) 청구한 경우에는 그러하지 아니하다.\n",
      "[전문개정 2009. 12. 31.]\n",
      "제5관 근로소득공제 ㆍ 연금소득공제 및 퇴직소득공제 <개정 2009. 12. 31.>\n",
      "제47조(근로소득공제) ①근로소득이 있는 거주자에 대해서는 해당 과세기간에 받는 총급여액에서 다음의 금액을 공제한다. 다만, 공제액이 2천만원을 초과하는 경우에는 2천만원을 공제한다. <개정 2012. 1. 1., 2014. 1. 1., 2019. 12. 31.>\n",
      "| 총급여액             | 공제액                          |\n",
      "|---------------------|--------------------------------|\n",
      "| 5백만원 이하          | 총 급여액의 100분의 70           |\n",
      "document end\n",
      "response: {'Score': 0, 'Explanation': \"The student's answer contains incorrect information regarding the calculation of taxable income for a resident with an annual salary of 50 million won. According to the provided facts, if the total salary is 50 million won or less, the deduction is 70% of the total salary. Therefore, the correct deduction should be 35 million won (70% of 50 million won). This means the taxable income should be 15 million won (50 million won - 35 million won), not 1,500 million won as stated in the student's answer. The student's answer incorrectly states that 1,500 million won is taxable, which is a miscalculation and not grounded in the facts provided.\"}\n"
     ]
    },
    {
     "data": {
      "text/plain": [
       "'end'"
      ]
     },
     "execution_count": 25,
     "metadata": {},
     "output_type": "execute_result"
    }
   ],
   "source": [
    "query = '연봉 5천만원인 거주자의 소득세는 얼마인가요?'\n",
    "context = retriever.invoke(query)\n",
    "print('document start')\n",
    "for document in context:\n",
    "    print(document.page_content)\n",
    "print('document end')\n",
    "generate_state = {'query': query, 'context': context}\n",
    "answer = generate(generate_state)\n",
    "\n",
    "hallucination_state = {'answer': answer, 'context': context}\n",
    "\n",
    "check_hallucination(hallucination_state)"
   ]
  },
  {
   "cell_type": "code",
   "execution_count": null,
   "id": "9f947bbb",
   "metadata": {},
   "outputs": [],
   "source": []
  }
 ],
 "metadata": {
  "kernelspec": {
   "display_name": ".venv",
   "language": "python",
   "name": "python3"
  },
  "language_info": {
   "codemirror_mode": {
    "name": "ipython",
    "version": 3
   },
   "file_extension": ".py",
   "mimetype": "text/x-python",
   "name": "python",
   "nbconvert_exporter": "python",
   "pygments_lexer": "ipython3",
   "version": "3.13.5"
  }
 },
 "nbformat": 4,
 "nbformat_minor": 5
}
