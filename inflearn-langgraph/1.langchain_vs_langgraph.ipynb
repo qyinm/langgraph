{
 "cells": [
  {
   "cell_type": "code",
   "execution_count": 40,
   "id": "62c51f06",
   "metadata": {},
   "outputs": [
    {
     "data": {
      "text/plain": [
       "True"
      ]
     },
     "execution_count": 40,
     "metadata": {},
     "output_type": "execute_result"
    }
   ],
   "source": [
    "from dotenv import load_dotenv\n",
    "\n",
    "# '열쇠 보관함'의 정확한 주소를 알려줍니다.\n",
    "load_dotenv(dotenv_path=\".env\", override=True) "
   ]
  },
  {
   "cell_type": "code",
   "execution_count": 41,
   "id": "d3178f12",
   "metadata": {},
   "outputs": [
    {
     "data": {
      "text/plain": [
       "AIMessage(content='인프럼(Inflearn)은 다양한 온라인 강의를 제공하는 플랫폼으로, 프로그래밍, 데이터 분석, 디자인, 마케팅, IT 관련 주제 등 여러 분야의 강의를 찾을 수 있습니다. 여기에는 다음과 같은 강의들이 포함될 수 있습니다:\\n\\n1. **프로그래밍**: Python, Java, JavaScript, C++, 웹 개발, 앱 개발 등\\n2. **데이터 사이언스**: 데이터 분석, 머신러닝, 인공지능, 딥러닝 등\\n3. **디자인**: UI/UX 디자인, 그래픽 디자인, 포토샵, 일러스트레이터 등\\n4. **마케팅**: 디지털 마케팅, SEO, 소셜 미디어 마케팅 등\\n5. **IT 및 네트워킹**: 클라우드 컴퓨팅, 사이버 보안, 시스템 관리 등\\n\\n각 강의는 초급부터 고급 과정까지 다양하게 제공되며, 강사의 경험과 강의 스타일에 따라 선택할 수 있습니다. 인프럼 웹사이트를 방문하면 최신 강의 목록과 자세한 정보를 확인할 수 있습니다.', additional_kwargs={'refusal': None}, response_metadata={'token_usage': {'completion_tokens': 236, 'prompt_tokens': 18, 'total_tokens': 254, 'completion_tokens_details': {'accepted_prediction_tokens': 0, 'audio_tokens': 0, 'reasoning_tokens': 0, 'rejected_prediction_tokens': 0}, 'prompt_tokens_details': {'audio_tokens': 0, 'cached_tokens': 0}}, 'model_name': 'gpt-4o-mini-2024-07-18', 'system_fingerprint': None, 'finish_reason': 'stop', 'logprobs': None}, id='run--ca033e80-9a7a-4d31-ac2f-88af50fb7c33-0', usage_metadata={'input_tokens': 18, 'output_tokens': 236, 'total_tokens': 254, 'input_token_details': {'audio': 0, 'cache_read': 0}, 'output_token_details': {'audio': 0, 'reasoning': 0}})"
      ]
     },
     "execution_count": 41,
     "metadata": {},
     "output_type": "execute_result"
    }
   ],
   "source": [
    "from langchain_openai import ChatOpenAI\n",
    "\n",
    "query = \"인프럼에는 어떤 강의가 있나요?\"\n",
    "\n",
    "llm = ChatOpenAI(model=\"gpt-4o-mini\")\n",
    "llm.invoke(query)"
   ]
  },
  {
   "cell_type": "code",
   "execution_count": 44,
   "id": "0eeb2dae",
   "metadata": {},
   "outputs": [],
   "source": [
    "from typing import Annotated\n",
    "from typing_extensions import TypedDict\n",
    "\n",
    "from langgraph.graph.message import add_messages\n",
    "from langchain_core.messages import AnyMessage\n",
    "\n",
    "class AgentState(TypedDict):\n",
    "    messages: list[Annotated[AnyMessage, add_messages]]\n"
   ]
  },
  {
   "cell_type": "code",
   "execution_count": 45,
   "id": "ee519369",
   "metadata": {},
   "outputs": [],
   "source": [
    "from langgraph.graph import StateGraph\n",
    "\n",
    "graph_builder = StateGraph(AgentState)"
   ]
  },
  {
   "cell_type": "code",
   "execution_count": 46,
   "id": "c11d0207",
   "metadata": {},
   "outputs": [],
   "source": [
    "def generate(state: AgentState) -> AgentState:\n",
    "    messages = state['messages']\n",
    "    ai_message = llm.invoke(messages)\n",
    "    return {'messages': [ai_message]}"
   ]
  },
  {
   "cell_type": "code",
   "execution_count": 47,
   "id": "43b5d65d",
   "metadata": {},
   "outputs": [
    {
     "data": {
      "text/plain": [
       "<langgraph.graph.state.StateGraph at 0x11f7dea50>"
      ]
     },
     "execution_count": 47,
     "metadata": {},
     "output_type": "execute_result"
    }
   ],
   "source": [
    "from langgraph.graph import START, END\n",
    "\n",
    "graph_builder.add_node('generate', generate)\n"
   ]
  },
  {
   "cell_type": "code",
   "execution_count": 48,
   "id": "8b094b59",
   "metadata": {},
   "outputs": [
    {
     "data": {
      "text/plain": [
       "<langgraph.graph.state.StateGraph at 0x11f7dea50>"
      ]
     },
     "execution_count": 48,
     "metadata": {},
     "output_type": "execute_result"
    }
   ],
   "source": [
    "graph_builder.add_edge(START, 'generate')\n",
    "graph_builder.add_edge('generate', END)"
   ]
  },
  {
   "cell_type": "code",
   "execution_count": 49,
   "id": "93b42546",
   "metadata": {},
   "outputs": [],
   "source": [
    "graph = graph_builder.compile()"
   ]
  },
  {
   "cell_type": "code",
   "execution_count": 51,
   "id": "2d667782",
   "metadata": {},
   "outputs": [
    {
     "data": {
      "image/png": "[encoded data removed]",
      "text/plain": [
       "<IPython.core.display.Image object>"
      ]
     },
     "metadata": {},
     "output_type": "display_data"
    }
   ],
   "source": [
    "from IPython.display import display, Image\n",
    "\n",
    "display(Image(graph.get_graph().draw_mermaid_png()))"
   ]
  },
  {
   "cell_type": "code",
   "execution_count": 53,
   "id": "070e5cb6",
   "metadata": {},
   "outputs": [
    {
     "data": {
      "text/plain": [
       "{'messages': [AIMessage(content='인프럼(Inflearn)은 다양한 주제의 온라인 강의를 제공하는 플랫폼입니다. 주로 IT, 프로그래밍, 데이터 사이언스, 디자인, 마케팅, 비즈니스 등 여러 분야의 강의가 있습니다. 예를 들어, 다음과 같은 강의들이 있을 수 있습니다:\\n\\n1. **프로그래밍**: Python, Java, JavaScript, C++, Ruby 등\\n2. **웹 개발**: HTML, CSS, React, Vue.js, Node.js 등\\n3. **데이터 과학**: 머신러닝, 데이터 분석, 통계학, R, SQL 등\\n4. **디자인**: UI/UX 디자인, 포토샵, 일러스트레이터 등\\n5. **모바일 개발**: Android, iOS 개발, Flutter 등\\n6. **클라우드**: AWS, Azure, Google Cloud 등\\n7. **마케팅**: 디지털 마케팅, SEO, 콘텐츠 마케팅 등\\n\\n각 강의는 강사에 따라 내용과 수준이 다르므로, 필요한 주제에 맞는 강의를 선택할 수 있습니다. 인프럼 웹사이트를 방문하면 최신 강의 목록과 정보를 확인할 수 있습니다.', additional_kwargs={'refusal': None}, response_metadata={'token_usage': {'completion_tokens': 252, 'prompt_tokens': 18, 'total_tokens': 270, 'completion_tokens_details': {'accepted_prediction_tokens': 0, 'audio_tokens': 0, 'reasoning_tokens': 0, 'rejected_prediction_tokens': 0}, 'prompt_tokens_details': {'audio_tokens': 0, 'cached_tokens': 0}}, 'model_name': 'gpt-4o-mini-2024-07-18', 'system_fingerprint': 'fp_34a54ae93c', 'finish_reason': 'stop', 'logprobs': None}, id='run--2866e07b-de82-42ae-9ba7-f285f262c2bf-0', usage_metadata={'input_tokens': 18, 'output_tokens': 252, 'total_tokens': 270, 'input_token_details': {'audio': 0, 'cache_read': 0}, 'output_token_details': {'audio': 0, 'reasoning': 0}})]}"
      ]
     },
     "execution_count": 53,
     "metadata": {},
     "output_type": "execute_result"
    }
   ],
   "source": [
    "from langchain_core.messages import HumanMessage\n",
    "\n",
    "initial_state = {\"messages\": [HumanMessage(query)]}\n",
    "graph.invoke(initial_state)"
   ]
  },
  {
   "cell_type": "code",
   "execution_count": null,
   "id": "f8442ada",
   "metadata": {},
   "outputs": [],
   "source": []
  }
 ],
 "metadata": {
  "kernelspec": {
   "display_name": ".venv",
   "language": "python",
   "name": "python3"
  },
  "language_info": {
   "codemirror_mode": {
    "name": "ipython",
    "version": 3
   },
   "file_extension": ".py",
   "mimetype": "text/x-python",
   "name": "python",
   "nbconvert_exporter": "python",
   "pygments_lexer": "ipython3",
   "version": "3.13.5"
  }
 },
 "nbformat": 4,
 "nbformat_minor": 5
}
