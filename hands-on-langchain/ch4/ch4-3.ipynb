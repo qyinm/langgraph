{
 "cells": [
  {
   "cell_type": "code",
   "execution_count": 3,
   "id": "4888de42",
   "metadata": {},
   "outputs": [],
   "source": [
    "from typing import Annotated, TypedDict\n",
    "\n",
    "from langchain_core.messages import HumanMessage\n",
    "from langchain_openai import ChatOpenAI\n",
    "from langgraph.graph import StateGraph, START, END, add_messages\n",
    "from langgraph.checkpoint.memory import MemorySaver\n",
    "\n",
    "class State(TypedDict):\n",
    "    messages: Annotated[list, add_messages]\n",
    "\n",
    "builder = StateGraph(State)"
   ]
  },
  {
   "cell_type": "code",
   "execution_count": 4,
   "id": "f205ad7f",
   "metadata": {},
   "outputs": [
    {
     "data": {
      "text/plain": [
       "<langgraph.graph.state.StateGraph at 0x1191f5a90>"
      ]
     },
     "execution_count": 4,
     "metadata": {},
     "output_type": "execute_result"
    }
   ],
   "source": [
    "from langchain_openai import ChatOpenAI\n",
    "\n",
    "model = ChatOpenAI(model='gpt-4o-mini')\n",
    "\n",
    "def chatbot(state: State):\n",
    "    answer = model.invoke(state['messages'])\n",
    "    return {'messages': [answer]}\n",
    "\n",
    "builder.add_node('chatbot', chatbot)"
   ]
  },
  {
   "cell_type": "code",
   "execution_count": 5,
   "id": "f3d26fac",
   "metadata": {},
   "outputs": [],
   "source": [
    "builder.add_edge(START, 'chatbot')\n",
    "builder.add_edge('chatbot', END)\n",
    "\n",
    "graph = builder.compile()"
   ]
  },
  {
   "cell_type": "code",
   "execution_count": 7,
   "id": "a2ef7c1f",
   "metadata": {},
   "outputs": [
    {
     "data": {
      "image/png": "[encoded data removed]",
      "text/plain": [
       "<IPython.core.display.Image object>"
      ]
     },
     "execution_count": 7,
     "metadata": {},
     "output_type": "execute_result"
    }
   ],
   "source": [
    "from IPython.display import Image\n",
    "\n",
    "Image(graph.get_graph().draw_mermaid_png())"
   ]
  },
  {
   "cell_type": "code",
   "execution_count": 8,
   "id": "8b248c7d",
   "metadata": {},
   "outputs": [
    {
     "name": "stdout",
     "output_type": "stream",
     "text": [
      "{'chatbot': {'messages': [AIMessage(content='안녕하세요! 어떻게 도와드릴까요?', additional_kwargs={'refusal': None}, response_metadata={'token_usage': {'completion_tokens': 10, 'prompt_tokens': 10, 'total_tokens': 20, 'completion_tokens_details': {'accepted_prediction_tokens': 0, 'audio_tokens': 0, 'reasoning_tokens': 0, 'rejected_prediction_tokens': 0}, 'prompt_tokens_details': {'audio_tokens': 0, 'cached_tokens': 0}}, 'model_name': 'gpt-4o-mini-2024-07-18', 'system_fingerprint': None, 'finish_reason': 'stop', 'logprobs': None}, id='run--1b34e75e-b0f2-4487-9889-06ffbb4897ed-0', usage_metadata={'input_tokens': 10, 'output_tokens': 10, 'total_tokens': 20, 'input_token_details': {'audio': 0, 'cache_read': 0}, 'output_token_details': {'audio': 0, 'reasoning': 0}})]}}\n"
     ]
    }
   ],
   "source": [
    "input = {'messages': [HumanMessage('안녕하세요!')]}\n",
    "for chunk in graph.stream(input):\n",
    "    print(chunk)"
   ]
  },
  {
   "cell_type": "markdown",
   "id": "aedc00b2",
   "metadata": {},
   "source": [
    "# 4.4 StateGraph에 메모리 기능 추가\n",
    "langgraph에 영속성 추가 -> 랭그래프 전용 스토리지 어댑터인 체크포인터 첨부해 재컴파일"
   ]
  },
  {
   "cell_type": "code",
   "execution_count": 9,
   "id": "b3205db3",
   "metadata": {},
   "outputs": [],
   "source": [
    "from langgraph.checkpoint.memory import MemorySaver\n",
    "\n",
    "graph = builder.compile(checkpointer=MemorySaver())"
   ]
  },
  {
   "cell_type": "code",
   "execution_count": 12,
   "id": "1e113a43",
   "metadata": {},
   "outputs": [
    {
     "data": {
      "text/plain": [
       "{'messages': [HumanMessage(content='안녕하세요, 저는 민혁입니다!', additional_kwargs={}, response_metadata={}, id='9e37b7ac-a787-4a72-9239-7874be3837ec'),\n",
       "  AIMessage(content='안녕하세요, 민혁님! 만나서 반갑습니다. 어떻게 도와드릴까요?', additional_kwargs={'refusal': None}, response_metadata={'token_usage': {'completion_tokens': 20, 'prompt_tokens': 15, 'total_tokens': 35, 'completion_tokens_details': {'accepted_prediction_tokens': 0, 'audio_tokens': 0, 'reasoning_tokens': 0, 'rejected_prediction_tokens': 0}, 'prompt_tokens_details': {'audio_tokens': 0, 'cached_tokens': 0}}, 'model_name': 'gpt-4o-mini-2024-07-18', 'system_fingerprint': None, 'finish_reason': 'stop', 'logprobs': None}, id='run--4dd27b1f-1d8a-4411-8196-37ca839f6b1a-0', usage_metadata={'input_tokens': 15, 'output_tokens': 20, 'total_tokens': 35, 'input_token_details': {'audio': 0, 'cache_read': 0}, 'output_token_details': {'audio': 0, 'reasoning': 0}}),\n",
       "  HumanMessage(content='안녕하세요, 저는 민혁입니다!', additional_kwargs={}, response_metadata={}, id='25271b52-fabe-4628-b6b2-a5778c0a0dc8'),\n",
       "  AIMessage(content='안녕하세요, 민혁님! 다시 만나서 반갑습니다. 오늘 어떻게 지내고 계신가요? 궁금한 점이나 이야기하고 싶은 것이 있다면 언제든지 말씀해 주세요!', additional_kwargs={'refusal': None}, response_metadata={'token_usage': {'completion_tokens': 42, 'prompt_tokens': 51, 'total_tokens': 93, 'completion_tokens_details': {'accepted_prediction_tokens': 0, 'audio_tokens': 0, 'reasoning_tokens': 0, 'rejected_prediction_tokens': 0}, 'prompt_tokens_details': {'audio_tokens': 0, 'cached_tokens': 0}}, 'model_name': 'gpt-4o-mini-2024-07-18', 'system_fingerprint': None, 'finish_reason': 'stop', 'logprobs': None}, id='run--09486ec4-9e70-4a77-a9dc-d2101836e1fc-0', usage_metadata={'input_tokens': 51, 'output_tokens': 42, 'total_tokens': 93, 'input_token_details': {'audio': 0, 'cache_read': 0}, 'output_token_details': {'audio': 0, 'reasoning': 0}}),\n",
       "  HumanMessage(content='제 이름이 뭐죠?', additional_kwargs={}, response_metadata={}, id='8b23c5be-291a-45bc-a2a1-bb3852101bb7'),\n",
       "  AIMessage(content='민혁님이시죠! 다른 질문이나 이야기하고 싶은 것이 있다면 말씀해 주세요.', additional_kwargs={'refusal': None}, response_metadata={'token_usage': {'completion_tokens': 20, 'prompt_tokens': 107, 'total_tokens': 127, 'completion_tokens_details': {'accepted_prediction_tokens': 0, 'audio_tokens': 0, 'reasoning_tokens': 0, 'rejected_prediction_tokens': 0}, 'prompt_tokens_details': {'audio_tokens': 0, 'cached_tokens': 0}}, 'model_name': 'gpt-4o-mini-2024-07-18', 'system_fingerprint': None, 'finish_reason': 'stop', 'logprobs': None}, id='run--9932676f-c868-4015-b1c3-aa67e45aab27-0', usage_metadata={'input_tokens': 107, 'output_tokens': 20, 'total_tokens': 127, 'input_token_details': {'audio': 0, 'cache_read': 0}, 'output_token_details': {'audio': 0, 'reasoning': 0}}),\n",
       "  HumanMessage(content='안녕하세요, 저는 민혁입니다!', additional_kwargs={}, response_metadata={}, id='efb32b53-304f-4e99-bb22-306f139898f7'),\n",
       "  AIMessage(content='안녕하세요, 민혁님! 다시 만나서 반갑습니다. 오늘은 어떤 이야기를 나눠볼까요?', additional_kwargs={'refusal': None}, response_metadata={'token_usage': {'completion_tokens': 25, 'prompt_tokens': 143, 'total_tokens': 168, 'completion_tokens_details': {'accepted_prediction_tokens': 0, 'audio_tokens': 0, 'reasoning_tokens': 0, 'rejected_prediction_tokens': 0}, 'prompt_tokens_details': {'audio_tokens': 0, 'cached_tokens': 0}}, 'model_name': 'gpt-4o-mini-2024-07-18', 'system_fingerprint': None, 'finish_reason': 'stop', 'logprobs': None}, id='run--8d573fa1-38a2-4d13-86e8-0d0d620fe57a-0', usage_metadata={'input_tokens': 143, 'output_tokens': 25, 'total_tokens': 168, 'input_token_details': {'audio': 0, 'cache_read': 0}, 'output_token_details': {'audio': 0, 'reasoning': 0}}),\n",
       "  HumanMessage(content='제 이름이 뭐죠?', additional_kwargs={}, response_metadata={}, id='ada768f2-73a5-4a23-b018-a3330ded6d02'),\n",
       "  AIMessage(content='민혁님이십니다! 다른 질문이나 대화하고 싶은 주제가 있다면 말씀해 주세요.', additional_kwargs={'refusal': None}, response_metadata={'token_usage': {'completion_tokens': 22, 'prompt_tokens': 182, 'total_tokens': 204, 'completion_tokens_details': {'accepted_prediction_tokens': 0, 'audio_tokens': 0, 'reasoning_tokens': 0, 'rejected_prediction_tokens': 0}, 'prompt_tokens_details': {'audio_tokens': 0, 'cached_tokens': 0}}, 'model_name': 'gpt-4o-mini-2024-07-18', 'system_fingerprint': None, 'finish_reason': 'stop', 'logprobs': None}, id='run--2babbac0-6369-4877-a039-f1db2eeb5878-0', usage_metadata={'input_tokens': 182, 'output_tokens': 22, 'total_tokens': 204, 'input_token_details': {'audio': 0, 'cache_read': 0}, 'output_token_details': {'audio': 0, 'reasoning': 0}})]}"
      ]
     },
     "execution_count": 12,
     "metadata": {},
     "output_type": "execute_result"
    }
   ],
   "source": [
    "thread1 = {'configurable': {'thread_id': '1'}}\n",
    "\n",
    "result_1 = graph.invoke({\n",
    "    'messages': [HumanMessage('안녕하세요, 저는 민혁입니다!')]\n",
    "}, thread1)\n",
    "\n",
    "result_2 = graph.invoke({\n",
    "    'messages': [HumanMessage('제 이름이 뭐죠?')]\n",
    "}, thread1)\n",
    "\n",
    "result_2"
   ]
  },
  {
   "cell_type": "code",
   "execution_count": 13,
   "id": "004a3659",
   "metadata": {},
   "outputs": [
    {
     "data": {
      "text/plain": [
       "StateSnapshot(values={'messages': [HumanMessage(content='안녕하세요, 저는 민혁입니다!', additional_kwargs={}, response_metadata={}, id='9e37b7ac-a787-4a72-9239-7874be3837ec'), AIMessage(content='안녕하세요, 민혁님! 만나서 반갑습니다. 어떻게 도와드릴까요?', additional_kwargs={'refusal': None}, response_metadata={'token_usage': {'completion_tokens': 20, 'prompt_tokens': 15, 'total_tokens': 35, 'completion_tokens_details': {'accepted_prediction_tokens': 0, 'audio_tokens': 0, 'reasoning_tokens': 0, 'rejected_prediction_tokens': 0}, 'prompt_tokens_details': {'audio_tokens': 0, 'cached_tokens': 0}}, 'model_name': 'gpt-4o-mini-2024-07-18', 'system_fingerprint': None, 'finish_reason': 'stop', 'logprobs': None}, id='run--4dd27b1f-1d8a-4411-8196-37ca839f6b1a-0', usage_metadata={'input_tokens': 15, 'output_tokens': 20, 'total_tokens': 35, 'input_token_details': {'audio': 0, 'cache_read': 0}, 'output_token_details': {'audio': 0, 'reasoning': 0}}), HumanMessage(content='안녕하세요, 저는 민혁입니다!', additional_kwargs={}, response_metadata={}, id='25271b52-fabe-4628-b6b2-a5778c0a0dc8'), AIMessage(content='안녕하세요, 민혁님! 다시 만나서 반갑습니다. 오늘 어떻게 지내고 계신가요? 궁금한 점이나 이야기하고 싶은 것이 있다면 언제든지 말씀해 주세요!', additional_kwargs={'refusal': None}, response_metadata={'token_usage': {'completion_tokens': 42, 'prompt_tokens': 51, 'total_tokens': 93, 'completion_tokens_details': {'accepted_prediction_tokens': 0, 'audio_tokens': 0, 'reasoning_tokens': 0, 'rejected_prediction_tokens': 0}, 'prompt_tokens_details': {'audio_tokens': 0, 'cached_tokens': 0}}, 'model_name': 'gpt-4o-mini-2024-07-18', 'system_fingerprint': None, 'finish_reason': 'stop', 'logprobs': None}, id='run--09486ec4-9e70-4a77-a9dc-d2101836e1fc-0', usage_metadata={'input_tokens': 51, 'output_tokens': 42, 'total_tokens': 93, 'input_token_details': {'audio': 0, 'cache_read': 0}, 'output_token_details': {'audio': 0, 'reasoning': 0}}), HumanMessage(content='제 이름이 뭐죠?', additional_kwargs={}, response_metadata={}, id='8b23c5be-291a-45bc-a2a1-bb3852101bb7'), AIMessage(content='민혁님이시죠! 다른 질문이나 이야기하고 싶은 것이 있다면 말씀해 주세요.', additional_kwargs={'refusal': None}, response_metadata={'token_usage': {'completion_tokens': 20, 'prompt_tokens': 107, 'total_tokens': 127, 'completion_tokens_details': {'accepted_prediction_tokens': 0, 'audio_tokens': 0, 'reasoning_tokens': 0, 'rejected_prediction_tokens': 0}, 'prompt_tokens_details': {'audio_tokens': 0, 'cached_tokens': 0}}, 'model_name': 'gpt-4o-mini-2024-07-18', 'system_fingerprint': None, 'finish_reason': 'stop', 'logprobs': None}, id='run--9932676f-c868-4015-b1c3-aa67e45aab27-0', usage_metadata={'input_tokens': 107, 'output_tokens': 20, 'total_tokens': 127, 'input_token_details': {'audio': 0, 'cache_read': 0}, 'output_token_details': {'audio': 0, 'reasoning': 0}}), HumanMessage(content='안녕하세요, 저는 민혁입니다!', additional_kwargs={}, response_metadata={}, id='efb32b53-304f-4e99-bb22-306f139898f7'), AIMessage(content='안녕하세요, 민혁님! 다시 만나서 반갑습니다. 오늘은 어떤 이야기를 나눠볼까요?', additional_kwargs={'refusal': None}, response_metadata={'token_usage': {'completion_tokens': 25, 'prompt_tokens': 143, 'total_tokens': 168, 'completion_tokens_details': {'accepted_prediction_tokens': 0, 'audio_tokens': 0, 'reasoning_tokens': 0, 'rejected_prediction_tokens': 0}, 'prompt_tokens_details': {'audio_tokens': 0, 'cached_tokens': 0}}, 'model_name': 'gpt-4o-mini-2024-07-18', 'system_fingerprint': None, 'finish_reason': 'stop', 'logprobs': None}, id='run--8d573fa1-38a2-4d13-86e8-0d0d620fe57a-0', usage_metadata={'input_tokens': 143, 'output_tokens': 25, 'total_tokens': 168, 'input_token_details': {'audio': 0, 'cache_read': 0}, 'output_token_details': {'audio': 0, 'reasoning': 0}}), HumanMessage(content='제 이름이 뭐죠?', additional_kwargs={}, response_metadata={}, id='ada768f2-73a5-4a23-b018-a3330ded6d02'), AIMessage(content='민혁님이십니다! 다른 질문이나 대화하고 싶은 주제가 있다면 말씀해 주세요.', additional_kwargs={'refusal': None}, response_metadata={'token_usage': {'completion_tokens': 22, 'prompt_tokens': 182, 'total_tokens': 204, 'completion_tokens_details': {'accepted_prediction_tokens': 0, 'audio_tokens': 0, 'reasoning_tokens': 0, 'rejected_prediction_tokens': 0}, 'prompt_tokens_details': {'audio_tokens': 0, 'cached_tokens': 0}}, 'model_name': 'gpt-4o-mini-2024-07-18', 'system_fingerprint': None, 'finish_reason': 'stop', 'logprobs': None}, id='run--2babbac0-6369-4877-a039-f1db2eeb5878-0', usage_metadata={'input_tokens': 182, 'output_tokens': 22, 'total_tokens': 204, 'input_token_details': {'audio': 0, 'cache_read': 0}, 'output_token_details': {'audio': 0, 'reasoning': 0}})]}, next=(), config={'configurable': {'thread_id': '1', 'checkpoint_ns': '', 'checkpoint_id': '1f06570b-8966-60e2-800d-9bd5fb9c5b5d'}}, metadata={'source': 'loop', 'writes': {'chatbot': {'messages': [AIMessage(content='민혁님이십니다! 다른 질문이나 대화하고 싶은 주제가 있다면 말씀해 주세요.', additional_kwargs={'refusal': None}, response_metadata={'token_usage': {'completion_tokens': 22, 'prompt_tokens': 182, 'total_tokens': 204, 'completion_tokens_details': {'accepted_prediction_tokens': 0, 'audio_tokens': 0, 'reasoning_tokens': 0, 'rejected_prediction_tokens': 0}, 'prompt_tokens_details': {'audio_tokens': 0, 'cached_tokens': 0}}, 'model_name': 'gpt-4o-mini-2024-07-18', 'system_fingerprint': None, 'finish_reason': 'stop', 'logprobs': None}, id='run--2babbac0-6369-4877-a039-f1db2eeb5878-0', usage_metadata={'input_tokens': 182, 'output_tokens': 22, 'total_tokens': 204, 'input_token_details': {'audio': 0, 'cache_read': 0}, 'output_token_details': {'audio': 0, 'reasoning': 0}})]}}, 'thread_id': '1', 'step': 13, 'parents': {}}, created_at='2025-07-20T13:52:05.609043+00:00', parent_config={'configurable': {'thread_id': '1', 'checkpoint_ns': '', 'checkpoint_id': '1f06570b-7fad-610e-800c-81224677f35d'}}, tasks=())"
      ]
     },
     "execution_count": 13,
     "metadata": {},
     "output_type": "execute_result"
    }
   ],
   "source": [
    "graph.get_state(thread1)"
   ]
  },
  {
   "cell_type": "code",
   "execution_count": 14,
   "id": "bf4537e0",
   "metadata": {},
   "outputs": [
    {
     "data": {
      "text/plain": [
       "{'configurable': {'thread_id': '1',\n",
       "  'checkpoint_ns': '',\n",
       "  'checkpoint_id': '1f06570e-6c35-6e84-800e-a6ec3dd306da'}}"
      ]
     },
     "execution_count": 14,
     "metadata": {},
     "output_type": "execute_result"
    }
   ],
   "source": [
    "graph.update_state(thread1, {'messages': [HumanMessage('저는 LLM이 좋아요!')]})"
   ]
  },
  {
   "cell_type": "markdown",
   "id": "ed9991dd",
   "metadata": {},
   "source": [
    "# 4.5 채팅기록 수정\n",
    "\n",
    "채팅 기록 메시지는 채팅 모델이 좋은 응답 값 생성에 부족함\n",
    "-> 채팅 기록 수정\n",
    "기법\n",
    "1. 메시지 축약 - trimming\n",
    "2. 내용 필터링 - filtering\n",
    "3. 메시지 병합 - merging"
   ]
  },
  {
   "cell_type": "markdown",
   "id": "e3913a92",
   "metadata": {},
   "source": [
    "## 메시지 축약\n",
    "context window 제한"
   ]
  },
  {
   "cell_type": "code",
   "execution_count": 15,
   "id": "d9519913",
   "metadata": {},
   "outputs": [
    {
     "data": {
      "text/plain": [
       "[SystemMessage(content='당신은 친절한 어시스턴트입니다. 모든 질문에 최선을 다해 답하세요.', additional_kwargs={}, response_metadata={}),\n",
       " HumanMessage(content='2 + 2는 얼마죠?', additional_kwargs={}, response_metadata={}),\n",
       " AIMessage(content='4 입니다.!', additional_kwargs={}, response_metadata={}),\n",
       " HumanMessage(content='고마워요.', additional_kwargs={}, response_metadata={})]"
      ]
     },
     "execution_count": 15,
     "metadata": {},
     "output_type": "execute_result"
    }
   ],
   "source": [
    "from langchain_core.messages import (\n",
    "    SystemMessage,\n",
    "    HumanMessage,\n",
    "    AIMessage,\n",
    "    trim_messages\n",
    ")\n",
    "from langchain_openai import ChatOpenAI\n",
    "\n",
    "message = [\n",
    "    SystemMessage('당신은 친절한 어시스턴트입니다. 모든 질문에 최선을 다해 답하세요.'),\n",
    "    HumanMessage('안녕하세요! 저는 민혁입니다!'),\n",
    "    AIMessage('안녕하세요!'),\n",
    "    HumanMessage('바닐라 아이스크림을 좋아해요!'),\n",
    "    AIMessage('좋네요!'),\n",
    "    HumanMessage('2 + 2는 얼마죠?'),\n",
    "    AIMessage('4 입니다.!'),\n",
    "    HumanMessage('고마워요.'),\n",
    "]\n",
    "\n",
    "trimmer = trim_messages(\n",
    "    max_tokens=65,\n",
    "    strategy='last',\n",
    "    token_counter=ChatOpenAI(model='gpt-4o-mini'),\n",
    "    include_system=True,\n",
    "    allow_partial=False,\n",
    "    start_on='human'\n",
    ")\n",
    "\n",
    "trimmed = trimmer.invoke(message)\n",
    "\n",
    "trimmed"
   ]
  },
  {
   "cell_type": "markdown",
   "id": "a4a0457d",
   "metadata": {},
   "source": [
    "## 내용 필터링\n",
    "\n",
    "`filter_messages` 헬퍼를 사용해 채팅 기록 메시지를 유형, ID, 이름별로 쉽게 구분가능"
   ]
  },
  {
   "cell_type": "code",
   "execution_count": 20,
   "id": "d5aa5cf3",
   "metadata": {},
   "outputs": [
    {
     "data": {
      "text/plain": [
       "[HumanMessage(content='예시 입력', additional_kwargs={}, response_metadata={}, name='example_user', id='2'),\n",
       " HumanMessage(content='실제 입력', additional_kwargs={}, response_metadata={}, name='bob', id='4')]"
      ]
     },
     "execution_count": 20,
     "metadata": {},
     "output_type": "execute_result"
    }
   ],
   "source": [
    "from langchain_core.messages import (\n",
    "    AIMessage,\n",
    "    HumanMessage,\n",
    "    SystemMessage,\n",
    "    filter_messages\n",
    ")\n",
    "\n",
    "messages = [\n",
    "    SystemMessage(content='당신은 친절한 어시스턴트입니다.', id='1'),\n",
    "    HumanMessage(content='예시 입력', id='2', name='example_user'),\n",
    "    AIMessage(content='예시 출력', id='3', name='example_assistant'),\n",
    "    HumanMessage(content='실제 입력', id='4', name='bob'),\n",
    "    AIMessage(content='실제 출력', id='5', name='alice'),\n",
    "]\n",
    "\n",
    "human_messages = filter_messages(messages, include_types='human')\n",
    "human_messages"
   ]
  },
  {
   "cell_type": "code",
   "execution_count": 23,
   "id": "d1d6e5f9",
   "metadata": {},
   "outputs": [
    {
     "name": "stdout",
     "output_type": "stream",
     "text": [
      "\n",
      "이름에 example이 포함되지 않은 메시지: [SystemMessage(content='당신은 친절한 어시스턴트입니다.', additional_kwargs={}, response_metadata={}, id='1'), HumanMessage(content='실제 입력', additional_kwargs={}, response_metadata={}, name='bob', id='4'), AIMessage(content='실제 출력', additional_kwargs={}, response_metadata={}, name='alice', id='5')]\n",
      "\n",
      "특정 유형과 ID로 필터링한 메시지: [HumanMessage(content='예시 입력', additional_kwargs={}, response_metadata={}, name='example_user', id='2'), HumanMessage(content='실제 입력', additional_kwargs={}, response_metadata={}, name='bob', id='4'), AIMessage(content='실제 출력', additional_kwargs={}, response_metadata={}, name='alice', id='5')]\n"
     ]
    }
   ],
   "source": [
    "excluded_names = filter_messages(\n",
    "    messages, exclude_names=['example_user', 'example_assistant']\n",
    ")\n",
    "print('\\n이름에 example이 포함되지 않은 메시지:', excluded_names)\n",
    "\n",
    "filtered_messages = filter_messages(\n",
    "    messages, include_types=['human', 'ai'], exclude_ids=['3']\n",
    ")\n",
    "print('\\n특정 유형과 ID로 필터링한 메시지:', filtered_messages)"
   ]
  },
  {
   "cell_type": "markdown",
   "id": "31d015b1",
   "metadata": {},
   "source": [
    "선언형으로 필터링"
   ]
  },
  {
   "cell_type": "code",
   "execution_count": 24,
   "id": "97b48cb7",
   "metadata": {},
   "outputs": [],
   "source": [
    "model = ChatOpenAI()\n",
    "\n",
    "filter_ = filter_messages(exclude_names=['example_user', 'example_assistant'])\n",
    "\n",
    "chain = filter_ | model"
   ]
  },
  {
   "cell_type": "markdown",
   "id": "cca51bdc",
   "metadata": {},
   "source": [
    "## 연속된 메시지 병합"
   ]
  },
  {
   "cell_type": "code",
   "execution_count": 25,
   "id": "a3716a73",
   "metadata": {},
   "outputs": [],
   "source": [
    "from langchain_core.messages import (\n",
    "    AIMessage,\n",
    "    HumanMessage,\n",
    "    SystemMessage,\n",
    "    merge_message_runs\n",
    ")\n",
    "\n",
    "messages = [\n",
    "    SystemMessage(content='당신은 친절한 어시스턴트입니다'),\n",
    "    SystemMessage(content='항상 농담으로 대답하세요'),\n",
    "    HumanMessage(\n",
    "        content=[{'type': 'text', 'text': '어떤 피자가 제일 맛있나요?'}]\n",
    "    ),\n",
    "    HumanMessage(\n",
    "        content='어떤 햄버거가 가장 맛있나요?'\n",
    "    ),\n",
    "    AIMessage(\n",
    "        content=[{'type': 'text', 'text': '피자가 제일 맛있어요!'}]\n",
    "    ),\n",
    "    AIMessage(\n",
    "        content='나는 항상 너만 \"고르곤졸라\"'\n",
    "    ),\n",
    "    AIMessage(\n",
    "        content='너가 \"버거\" 싶어'\n",
    "    )\n",
    "]\n",
    "\n",
    "merged = merge_message_runs(messages)"
   ]
  },
  {
   "cell_type": "code",
   "execution_count": 26,
   "id": "14d4024a",
   "metadata": {},
   "outputs": [
    {
     "data": {
      "text/plain": [
       "[SystemMessage(content='당신은 친절한 어시스턴트입니다\\n항상 농담으로 대답하세요', additional_kwargs={}, response_metadata={}),\n",
       " HumanMessage(content=[{'type': 'text', 'text': '어떤 피자가 제일 맛있나요?'}, '어떤 햄버거가 가장 맛있나요?'], additional_kwargs={}, response_metadata={}),\n",
       " AIMessage(content=[{'type': 'text', 'text': '피자가 제일 맛있어요!'}, '나는 항상 너만 \"고르곤졸라\"너가 \"버거\" 싶어'], additional_kwargs={}, response_metadata={})]"
      ]
     },
     "execution_count": 26,
     "metadata": {},
     "output_type": "execute_result"
    }
   ],
   "source": [
    "merged"
   ]
  },
  {
   "cell_type": "markdown",
   "id": "ced15269",
   "metadata": {},
   "source": [
    "선언형 merge"
   ]
  },
  {
   "cell_type": "code",
   "execution_count": 27,
   "id": "e47297d3",
   "metadata": {},
   "outputs": [],
   "source": [
    "model = ChatOpenAI(model=\"gpt-4o-mini\")\n",
    "merger = merge_message_runs()\n",
    "chain = merger | model"
   ]
  },
  {
   "cell_type": "code",
   "execution_count": null,
   "id": "d32cff74",
   "metadata": {},
   "outputs": [],
   "source": []
  }
 ],
 "metadata": {
  "kernelspec": {
   "display_name": ".venv",
   "language": "python",
   "name": "python3"
  },
  "language_info": {
   "codemirror_mode": {
    "name": "ipython",
    "version": 3
   },
   "file_extension": ".py",
   "mimetype": "text/x-python",
   "name": "python",
   "nbconvert_exporter": "python",
   "pygments_lexer": "ipython3",
   "version": "3.13.5"
  }
 },
 "nbformat": 4,
 "nbformat_minor": 5
}
