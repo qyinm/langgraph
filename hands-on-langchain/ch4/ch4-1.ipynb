{
 "cells": [
  {
   "cell_type": "markdown",
   "id": "af0bd584",
   "metadata": {},
   "source": [
    "간단한 메모리 시스템"
   ]
  },
  {
   "cell_type": "code",
   "execution_count": 11,
   "id": "c88dab17",
   "metadata": {},
   "outputs": [
    {
     "name": "stdout",
     "output_type": "stream",
     "text": [
      "content='\"J\\'adore programmer.\"는 \"나는 프로그래밍을 좋아해요\"라는 뜻입니다.' additional_kwargs={'refusal': None} response_metadata={'token_usage': {'completion_tokens': 20, 'prompt_tokens': 76, 'total_tokens': 96, 'completion_tokens_details': {'accepted_prediction_tokens': 0, 'audio_tokens': 0, 'reasoning_tokens': 0, 'rejected_prediction_tokens': 0}, 'prompt_tokens_details': {'audio_tokens': 0, 'cached_tokens': 0}}, 'model_name': 'gpt-4o-mini-2024-07-18', 'system_fingerprint': None, 'finish_reason': 'stop', 'logprobs': None} id='run--6a162b56-ff89-42e0-8cb0-c7558e63dfa3-0' usage_metadata={'input_tokens': 76, 'output_tokens': 20, 'total_tokens': 96, 'input_token_details': {'audio': 0, 'cache_read': 0}, 'output_token_details': {'audio': 0, 'reasoning': 0}}\n"
     ]
    }
   ],
   "source": [
    "from langchain_core.prompts import ChatPromptTemplate\n",
    "from langchain_openai import ChatOpenAI\n",
    "\n",
    "prompt = ChatPromptTemplate([\n",
    "    ('system', '당신은 친절한 어시스턴트입니다. 모든 질문에 최선을 다해 답하세요.'),\n",
    "    ('placeholder', '{messages}')\n",
    "])\n",
    "\n",
    "model = ChatOpenAI(model='gpt-4o-mini')\n",
    "\n",
    "chain = prompt | model\n",
    "\n",
    "response = chain.invoke({\n",
    "    'messages': [\n",
    "        ('human', '다음 한국어 문장을 프랑스어로 번역하세요.: 나는 프로그래밍을 좋아해요'),\n",
    "        ('ai', 'J\\'adore programmer.'),\n",
    "        ('human', '뭐라고 말했죠?'),\n",
    "    ],\n",
    "})\n",
    "\n",
    "print(response)"
   ]
  }
 ],
 "metadata": {
  "kernelspec": {
   "display_name": ".venv",
   "language": "python",
   "name": "python3"
  },
  "language_info": {
   "codemirror_mode": {
    "name": "ipython",
    "version": 3
   },
   "file_extension": ".py",
   "mimetype": "text/x-python",
   "name": "python",
   "nbconvert_exporter": "python",
   "pygments_lexer": "ipython3",
   "version": "3.13.5"
  }
 },
 "nbformat": 4,
 "nbformat_minor": 5
}
