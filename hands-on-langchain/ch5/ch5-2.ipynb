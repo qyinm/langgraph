{
 "cells": [
  {
   "cell_type": "code",
   "execution_count": 1,
   "id": "d69ce7c1",
   "metadata": {},
   "outputs": [],
   "source": [
    "from re import A\n",
    "from typing import Annotated, TypedDict\n",
    "\n",
    "from langchain_core.messages import HumanMessage, SystemMessage\n",
    "from langchain_openai import ChatOpenAI\n",
    "from langgraph.graph import StateGraph, START, END\n",
    "from langgraph.checkpoint.memory import MemorySaver\n",
    "from langgraph.graph.message import add_messages\n",
    "\n",
    "\n",
    "model_low_temp = ChatOpenAI(model='gpt-4o-mini', temperature=0.1)\n",
    "model_high_temp = ChatOpenAI(model='gpt-4o-mini', temperature=0.9)\n",
    "\n",
    "class State(TypedDict):\n",
    "    # 대확 기록\n",
    "    messages: Annotated[list, add_messages]\n",
    "\n",
    "    # 입력\n",
    "    user_query: str\n",
    "\n",
    "    # 출력\n",
    "    sql_query: str\n",
    "    sql_explanation: str\n",
    "\n",
    "class Input(TypedDict):\n",
    "    user_query: str\n",
    "\n",
    "class Output(TypedDict):\n",
    "    sql_query: str\n",
    "    sql_explanation: str\n",
    "\n",
    "generate_prompt = SystemMessage(\n",
    "    '당신은 친절한 데이터 분석가입니다. 사용자의 질문을 바탕으로 SQL 쿼리를 작성하세요.'\n",
    ")\n",
    "\n",
    "def generate_sql(state: State) -> State:\n",
    "    user_message = HumanMessage(state['user_query'])\n",
    "    messages = [generate_prompt, *state['messages'], user_message]\n",
    "    res = model_low_temp.invoke(messages)\n",
    "\n",
    "    return {\n",
    "        'sql_query': res.content,\n",
    "        # 대화 기록 업데이트\n",
    "        'messages': [user_message, res]\n",
    "    }\n",
    "\n",
    "explain_prompt = SystemMessage(\n",
    "    '당신은 친절한 데이터 분석가입니다. 사용자에게 SQL쿼리를 설명하세요.'\n",
    ")\n",
    "\n",
    "def explain_sql(state: State) -> State:\n",
    "    messages = [\n",
    "        explain_prompt,\n",
    "        # 이전 단계의 사용자의 질문과 SQL 쿼리\n",
    "        *state['messages'],\n",
    "    ]\n",
    "    res = model_high_temp.invoke(messages)\n",
    "\n",
    "    return {\n",
    "        'sql_explanation': res.content,\n",
    "        # 대화 기록 업데이트\n",
    "        'messages': res\n",
    "    }\n",
    "\n",
    "\n",
    "builder = StateGraph(State, input=Input, output=Output)\n",
    "\n",
    "builder.add_node('generate_sql', generate_sql)\n",
    "builder.add_node('explain_sql', explain_sql)\n",
    "\n",
    "builder.add_edge(START, 'generate_sql')\n",
    "builder.add_edge('generate_sql', 'explain_sql')\n",
    "builder.add_edge('explain_sql', END)\n",
    "\n",
    "graph = builder.compile()"
   ]
  },
  {
   "cell_type": "code",
   "execution_count": 5,
   "id": "a5b1c06e",
   "metadata": {},
   "outputs": [
    {
     "data": {
      "image/png": "[encoded data removed]",
      "text/plain": [
       "<IPython.core.display.Image object>"
      ]
     },
     "metadata": {},
     "output_type": "display_data"
    }
   ],
   "source": [
    "from IPython.display import Image, display\n",
    "\n",
    "display(Image(graph.get_graph().draw_mermaid_png()))"
   ]
  },
  {
   "cell_type": "code",
   "execution_count": 6,
   "id": "0708a8e1",
   "metadata": {},
   "outputs": [
    {
     "data": {
      "text/plain": [
       "{'sql_query': '각 품목의 판매량을 구하기 위한 SQL 쿼리는 다음과 같습니다. 이 쿼리는 `sales`라는 테이블에서 `item`과 `quantity`라는 열을 가정하고 작성되었습니다. 실제 테이블 및 열 이름에 맞게 수정해 주세요.\\n\\n```sql\\nSELECT item, SUM(quantity) AS total_sales\\nFROM sales\\nGROUP BY item;\\n```\\n\\n이 쿼리는 각 품목별로 판매량의 합계를 계산하여 반환합니다.',\n",
       " 'sql_explanation': '이 쿼리를 좀 더 자세히 설명해 드리겠습니다.\\n\\n1. **SELECT item, SUM(quantity) AS total_sales**:\\n   - `SELECT` 구문은 우리가 조회하고자 하는 열을 선택하는 부분입니다.\\n   - `item`은 각 품목을 나타내는 열입니다.\\n   - `SUM(quantity)`는 `quantity` 열의 값들을 모두 더한 결과를 반환합니다. 이 합계를 `total_sales`라는 이름으로 표시합니다.\\n\\n2. **FROM sales**:\\n   - `FROM` 구문은 데이터를 가져올 테이블을 지정합니다. 이 경우 `sales` 테이블에서 데이터를 가져옵니다.\\n\\n3. **GROUP BY item**:\\n   - `GROUP BY` 구문은 특정 열의 값에 따라 결과를 그룹화하는 데 사용됩니다. 여기서는 `item`별로 각 품목의 판매량을 집계합니다.\\n   - 즉, 같은 품목의 판매 데이터가 여러 개 있을 경우, 이들을 하나로 묶어서 판매량을 합산합니다.\\n\\n결과적으로 이 쿼리는 각 품목별로 총 판매량을 구해주는 역할을 하며, 각 품목과 그에 해당하는 판매량의 합계를 리스트 형태로 반환합니다.'}"
      ]
     },
     "execution_count": 6,
     "metadata": {},
     "output_type": "execute_result"
    }
   ],
   "source": [
    "graph.invoke({'user_query': '각 품목의 판매량을 구해주세요.'})"
   ]
  },
  {
   "cell_type": "code",
   "execution_count": null,
   "id": "0772a41b",
   "metadata": {},
   "outputs": [],
   "source": []
  }
 ],
 "metadata": {
  "kernelspec": {
   "display_name": ".venv",
   "language": "python",
   "name": "python3"
  },
  "language_info": {
   "codemirror_mode": {
    "name": "ipython",
    "version": 3
   },
   "file_extension": ".py",
   "mimetype": "text/x-python",
   "name": "python",
   "nbconvert_exporter": "python",
   "pygments_lexer": "ipython3",
   "version": "3.13.5"
  }
 },
 "nbformat": 4,
 "nbformat_minor": 5
}
