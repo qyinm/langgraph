{
 "cells": [
  {
   "cell_type": "code",
   "execution_count": 1,
   "id": "225f4d48",
   "metadata": {},
   "outputs": [],
   "source": [
    "import ast\n",
    "from typing import Annotated, TypedDict\n",
    "from uuid import uuid4\n",
    "\n",
    "from langchain_community.tools import DuckDuckGoSearchRun\n",
    "from langchain_core.messages import HumanMessage, AIMessage, ToolCall\n",
    "from langchain_core.tools import tool\n",
    "from langchain_openai import ChatOpenAI\n",
    "\n",
    "from langgraph.graph import StateGraph, START\n",
    "from langgraph.graph.message import add_messages\n",
    "from langgraph.prebuilt import ToolNode, tools_condition\n",
    "\n",
    "@tool\n",
    "def calculator(query: str) -> str:\n",
    "    '''계산기. 수식만 입력받습니다.'''\n",
    "    return ast.literal_eval(query)\n",
    "\n",
    "search = DuckDuckGoSearchRun()\n",
    "tools = [search, calculator]\n",
    "model = ChatOpenAI(model=\"gpt-4o-mini\", temperature=0).bind_tools(tools)\n",
    "\n",
    "class State(TypedDict):\n",
    "    messages: Annotated[list, add_messages]\n",
    "\n",
    "def model_node(state: State) -> State:\n",
    "    res = model.invoke(state['messages'])\n",
    "    return {'messages': res}\n",
    "\n",
    "def tools_node(state: State) -> State:\n",
    "    res = tools.invoke(state['messages'])\n",
    "    return {'messages': res}\n",
    "\n",
    "def first_model(state: State) -> State:\n",
    "    query = state['messages'][-1].content\n",
    "    search_tool_call = ToolCall(\n",
    "        name='duckduckgo_search',\n",
    "        args={'query': query},\n",
    "        id=uuid4().hex,\n",
    "    )\n",
    "    return {\n",
    "        'messages': AIMessage(content='', tool_calls=[search_tool_call])\n",
    "    }\n",
    "\n",
    "builder = StateGraph(State)\n",
    "builder.add_node('first_model', first_model)\n",
    "builder.add_node('model', model_node)\n",
    "builder.add_node('tools', ToolNode(tools))\n",
    "builder.add_edge(START, 'first_model')\n",
    "builder.add_edge('first_model', 'tools')\n",
    "builder.add_conditional_edges('model', tools_condition)\n",
    "builder.add_edge('tools', 'model')\n",
    "\n",
    "graph = builder.compile()"
   ]
  },
  {
   "cell_type": "code",
   "execution_count": 2,
   "id": "86593d3a",
   "metadata": {},
   "outputs": [
    {
     "data": {
      "image/png": "[encoded data removed]",
      "text/plain": [
       "<IPython.core.display.Image object>"
      ]
     },
     "metadata": {},
     "output_type": "display_data"
    }
   ],
   "source": [
    "from IPython.display import Image, display\n",
    "\n",
    "display(Image(graph.get_graph().draw_mermaid_png()))"
   ]
  },
  {
   "cell_type": "code",
   "execution_count": 3,
   "id": "ff4bec36",
   "metadata": {},
   "outputs": [
    {
     "name": "stdout",
     "output_type": "stream",
     "text": [
      "{'first_model': {'messages': AIMessage(content='', additional_kwargs={}, response_metadata={}, id='ecaec3ae-9df7-4956-91ba-c4405be57b44', tool_calls=[{'name': 'duckduckgo_search', 'args': {'query': '미국의 제 30대 대통령이 사망했을 때 나이는 몇 살일까요?'}, 'id': 'fc5cfa6257e543a1af5363eca9e2d2cd', 'type': 'tool_call'}])}}\n"
     ]
    },
    {
     "name": "stderr",
     "output_type": "stream",
     "text": [
      "/Users/hippoo/Desktop/SoMA/e-learning/langgraph/.venv/lib/python3.13/site-packages/langchain_community/utilities/duckduckgo_search.py:64: UserWarning: 'api' backend is deprecated, using backend='auto'\n",
      "  ddgs_gen = ddgs.text(\n"
     ]
    },
    {
     "name": "stdout",
     "output_type": "stream",
     "text": [
      "{'tools': {'messages': [ToolMessage(content='존 캘빈 쿨리지 주니어(영어: John Calvin Coolidge, Jr., 1872년 7월 4일 ~ 1933년 1월 5일)는 미국의 30대 대통령이었다. 자신의 과묵한 뉴잉글랜드 태도와 통치에\\xa0... 미국의 제30대 대통령. 워런 G. 하딩 행정부에서 제29대 미국 부통령으로 재임하다 하딩 대통령의 급서로 직을 승계해 취임했다. 잠이 많고 말이 없는 특유의 스타일로\\xa0... 미국의 제30대 대통령, 잠이 많고 과묵한 스타일로 유명하다. 그 유명한 잠 자다가 대통령이 되는 장면.[2] 고향에서 휴양 중에 하딩의 부고를 듣고 대통령에 취임하는\\xa0... 1841년 취임 31일 만에 사망한 윌리엄 헨리 해리슨이 미국 역사상 가장 짧은 대통령 임기를 가졌으며, 프랭클린 D. 루스벨트는 1933년부터 1945년 4번째 임기 초반에 사망\\xa0... 2025. 1. 5. ... 존 캘빈 쿨리지 주니어 (John Calvin Coolidge, Jr., 1872년 7월 4일 ~ 1933년 1월 5일)는 미국의 30대 대통령이다. 자신의 과묵한 태도와 통치에 사무\\xa0...', name='duckduckgo_search', id='114416e2-c135-40da-90ac-e2abedb2ab97', tool_call_id='fc5cfa6257e543a1af5363eca9e2d2cd')]}}\n",
      "{'model': {'messages': AIMessage(content='미국의 제 30대 대통령인 존 쿨리지(John Calvin Coolidge)는 1872년 7월 4일에 태어나 1933년 1월 5일에 사망했습니다. 그가 사망했을 때의 나이는 60세입니다.', additional_kwargs={'refusal': None}, response_metadata={'token_usage': {'completion_tokens': 64, 'prompt_tokens': 493, 'total_tokens': 557, 'completion_tokens_details': {'accepted_prediction_tokens': 0, 'audio_tokens': 0, 'reasoning_tokens': 0, 'rejected_prediction_tokens': 0}, 'prompt_tokens_details': {'audio_tokens': 0, 'cached_tokens': 0}}, 'model_name': 'gpt-4o-mini-2024-07-18', 'system_fingerprint': None, 'finish_reason': 'stop', 'logprobs': None}, id='run--83773803-3ea2-4554-b68a-d674de8da5d1-0', usage_metadata={'input_tokens': 493, 'output_tokens': 64, 'total_tokens': 557, 'input_token_details': {'audio': 0, 'cache_read': 0}, 'output_token_details': {'audio': 0, 'reasoning': 0}})}}\n"
     ]
    }
   ],
   "source": [
    "input = {\n",
    "    'messages': [\n",
    "        HumanMessage(\n",
    "            '미국의 제 30대 대통령이 사망했을 때 나이는 몇 살일까요?'\n",
    "        )\n",
    "    ]\n",
    "}\n",
    "\n",
    "for c in graph.stream(input):\n",
    "    print(c)"
   ]
  },
  {
   "cell_type": "code",
   "execution_count": null,
   "id": "0d9d9dc3",
   "metadata": {},
   "outputs": [],
   "source": [
    "\n"
   ]
  }
 ],
 "metadata": {
  "kernelspec": {
   "display_name": ".venv",
   "language": "python",
   "name": "python3"
  },
  "language_info": {
   "codemirror_mode": {
    "name": "ipython",
    "version": 3
   },
   "file_extension": ".py",
   "mimetype": "text/x-python",
   "name": "python",
   "nbconvert_exporter": "python",
   "pygments_lexer": "ipython3",
   "version": "3.13.5"
  }
 },
 "nbformat": 4,
 "nbformat_minor": 5
}
