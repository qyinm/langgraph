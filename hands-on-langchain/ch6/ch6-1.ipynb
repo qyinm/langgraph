{
 "cells": [
  {
   "cell_type": "code",
   "execution_count": 6,
   "id": "c580d21b",
   "metadata": {},
   "outputs": [],
   "source": [
    "import ast\n",
    "from typing import Annotated, TypedDict\n",
    "from langchain_core.tools import tool\n",
    "from langgraph.prebuilt import ToolNode, tools_condition\n",
    "from langchain_community.tools import DuckDuckGoSearchRun\n",
    "from langgraph.graph import StateGraph, START, END\n",
    "from langgraph.graph.message import add_messages\n",
    "from langchain_openai import ChatOpenAI\n",
    "\n",
    "@tool\n",
    "def calculator(query: str) -> str:\n",
    "    '''계산기. 수식만 입력받습니다.'''\n",
    "    return ast.literal_eval(query)\n",
    "\n",
    "search = DuckDuckGoSearchRun()\n",
    "tools = [search, calculator]\n",
    "model = ChatOpenAI(model=\"gpt-4o-mini\", temperature=0).bind_tools(tools)\n",
    "\n",
    "class State(TypedDict):\n",
    "    messages: Annotated[list, add_messages]\n",
    "\n",
    "def model_node(state: State) -> State:\n",
    "    res = model.invoke(state['messages'])\n",
    "    return {'messages': res}\n",
    "\n",
    "builder = StateGraph(State)\n",
    "builder.add_node(\"model\", model_node)\n",
    "builder.add_node(\"tools\", ToolNode(tools))\n",
    "builder.add_edge(START, \"model\")\n",
    "builder.add_conditional_edges(\"model\", tools_condition)\n",
    "builder.add_edge(\"tools\", \"model\")\n",
    "\n",
    "graph = builder.compile()"
   ]
  },
  {
   "cell_type": "code",
   "execution_count": 7,
   "id": "fdf870c7",
   "metadata": {},
   "outputs": [
    {
     "data": {
      "image/png": "[encoded data removed]",
      "text/plain": [
       "<IPython.core.display.Image object>"
      ]
     },
     "metadata": {},
     "output_type": "display_data"
    }
   ],
   "source": [
    "from IPython.display import Image, display\n",
    "\n",
    "display(Image(graph.get_graph().draw_mermaid_png()))"
   ]
  },
  {
   "cell_type": "code",
   "execution_count": 8,
   "id": "b35228d8",
   "metadata": {},
   "outputs": [
    {
     "name": "stdout",
     "output_type": "stream",
     "text": [
      "{'model': {'messages': AIMessage(content='', additional_kwargs={'tool_calls': [{'id': 'call_smt2LXkWHSFUwym6dfhFN406', 'function': {'arguments': '{\"query\":\"30th president of the United States death age\"}', 'name': 'duckduckgo_search'}, 'type': 'function'}], 'refusal': None}, response_metadata={'token_usage': {'completion_tokens': 25, 'prompt_tokens': 117, 'total_tokens': 142, 'completion_tokens_details': {'accepted_prediction_tokens': 0, 'audio_tokens': 0, 'reasoning_tokens': 0, 'rejected_prediction_tokens': 0}, 'prompt_tokens_details': {'audio_tokens': 0, 'cached_tokens': 0}}, 'model_name': 'gpt-4o-mini-2024-07-18', 'system_fingerprint': None, 'finish_reason': 'tool_calls', 'logprobs': None}, id='run--fba95f2d-1597-426c-b85e-34a81dc9a5e5-0', tool_calls=[{'name': 'duckduckgo_search', 'args': {'query': '30th president of the United States death age'}, 'id': 'call_smt2LXkWHSFUwym6dfhFN406', 'type': 'tool_call'}], usage_metadata={'input_tokens': 117, 'output_tokens': 25, 'total_tokens': 142, 'input_token_details': {'audio': 0, 'cache_read': 0}, 'output_token_details': {'audio': 0, 'reasoning': 0}})}}\n"
     ]
    },
    {
     "name": "stderr",
     "output_type": "stream",
     "text": [
      "/Users/hippoo/Desktop/SoMA/e-learning/langgraph/.venv/lib/python3.13/site-packages/langchain_community/utilities/duckduckgo_search.py:64: UserWarning: 'api' backend is deprecated, using backend='auto'\n",
      "  ddgs_gen = ddgs.text(\n"
     ]
    },
    {
     "name": "stdout",
     "output_type": "stream",
     "text": [
      "{'tools': {'messages': [ToolMessage(content=\"Calvin Coolidge was the 30th president of the United States, serving from 1923 to 1929. A Republican lawyer from Massachusetts, he previously served as the\\xa0... 6일 전 ... Calvin Coolidge was the 30th president of the United States (1923–29). Coolidge acceded to the presidency after the death in office of\\xa0... 2019. 1. 16. ... During the afternoon and evening of Thursday, January 5, 1933 the nation was stunned to learn of the death in Northampton of Calvin Coolidge,\\xa0... 2019. 1. 5. ... On this day in 1993, Calvin Coolidge, the nation's 30th president, died suddenly from coronary thrombosis at his home, The Beeches, in Northampton, Mass. He\\xa0... The oldest president at the time of death was Jimmy Carter, who died at 100 years, 89 days. John F. Kennedy, assassinated at the age of 46 years, 177 days, was\\xa0...\", name='duckduckgo_search', id='3055666c-ae73-4abd-bd64-b5c7485c2398', tool_call_id='call_smt2LXkWHSFUwym6dfhFN406')]}}\n",
      "{'model': {'messages': AIMessage(content='', additional_kwargs={'tool_calls': [{'id': 'call_ZxZ9DfgS2gWhYl1UIfpI8XM5', 'function': {'arguments': '{\"query\":\"Calvin Coolidge birth date and death date\"}', 'name': 'duckduckgo_search'}, 'type': 'function'}], 'refusal': None}, response_metadata={'token_usage': {'completion_tokens': 25, 'prompt_tokens': 370, 'total_tokens': 395, 'completion_tokens_details': {'accepted_prediction_tokens': 0, 'audio_tokens': 0, 'reasoning_tokens': 0, 'rejected_prediction_tokens': 0}, 'prompt_tokens_details': {'audio_tokens': 0, 'cached_tokens': 0}}, 'model_name': 'gpt-4o-mini-2024-07-18', 'system_fingerprint': None, 'finish_reason': 'tool_calls', 'logprobs': None}, id='run--d2226093-7f4a-4372-905f-a40027f115e3-0', tool_calls=[{'name': 'duckduckgo_search', 'args': {'query': 'Calvin Coolidge birth date and death date'}, 'id': 'call_ZxZ9DfgS2gWhYl1UIfpI8XM5', 'type': 'tool_call'}], usage_metadata={'input_tokens': 370, 'output_tokens': 25, 'total_tokens': 395, 'input_token_details': {'audio': 0, 'cache_read': 0}, 'output_token_details': {'audio': 0, 'reasoning': 0}})}}\n"
     ]
    },
    {
     "name": "stderr",
     "output_type": "stream",
     "text": [
      "/Users/hippoo/Desktop/SoMA/e-learning/langgraph/.venv/lib/python3.13/site-packages/langchain_community/utilities/duckduckgo_search.py:64: UserWarning: 'api' backend is deprecated, using backend='auto'\n",
      "  ddgs_gen = ddgs.text(\n"
     ]
    },
    {
     "name": "stdout",
     "output_type": "stream",
     "text": [
      "{'tools': {'messages': [ToolMessage(content=\"Calvin Coolidge was the 30th president of the United States, serving from 1923 to 1929. A Republican lawyer from Massachusetts, he previously served as the\\xa0... 6일 전 ... Calvin Coolidge (born July 4, 1872, Plymouth, Vermont, U.S.—died January 5, 1933, Northampton, Massachusetts) was the 30th president of the\\xa0... Birth Date. July 4, 1872 ; Death Date. January 5, 1933 ; Birth Place. Plymouth Notch, Vermont ; Education. Amherst College (graduated 1895) ; Religion. Born in Plymouth, Vermont, on July 4, 1872, Coolidge was the son of a village storekeeper. He graduated from Amherst College with honors, and entered law and\\xa0... John Calvin Coolidge is born in Plymouth Notch, Vermont. 1875. April 15, Calvin's sister, Abigail Grace Coolidge (Abbie) is born. 1877.\", name='duckduckgo_search', id='6edd2a19-8b2c-4c6a-9bf4-96a2e707c1be', tool_call_id='call_ZxZ9DfgS2gWhYl1UIfpI8XM5')]}}\n",
      "{'model': {'messages': AIMessage(content='', additional_kwargs={'tool_calls': [{'id': 'call_iMqJ6aSVX5YFfTUpcsigv4zE', 'function': {'arguments': '{\"query\":\"1933 - 1872\"}', 'name': 'calculator'}, 'type': 'function'}], 'refusal': None}, response_metadata={'token_usage': {'completion_tokens': 19, 'prompt_tokens': 617, 'total_tokens': 636, 'completion_tokens_details': {'accepted_prediction_tokens': 0, 'audio_tokens': 0, 'reasoning_tokens': 0, 'rejected_prediction_tokens': 0}, 'prompt_tokens_details': {'audio_tokens': 0, 'cached_tokens': 0}}, 'model_name': 'gpt-4o-mini-2024-07-18', 'system_fingerprint': None, 'finish_reason': 'tool_calls', 'logprobs': None}, id='run--eac96bbe-939c-4dee-968d-4307c1fe4708-0', tool_calls=[{'name': 'calculator', 'args': {'query': '1933 - 1872'}, 'id': 'call_iMqJ6aSVX5YFfTUpcsigv4zE', 'type': 'tool_call'}], usage_metadata={'input_tokens': 617, 'output_tokens': 19, 'total_tokens': 636, 'input_token_details': {'audio': 0, 'cache_read': 0}, 'output_token_details': {'audio': 0, 'reasoning': 0}})}}\n",
      "{'tools': {'messages': [ToolMessage(content=\"Error: ValueError('malformed node or string on line 1: <ast.BinOp object at 0x10d9dad50>')\\n Please fix your mistakes.\", name='calculator', id='28a381d3-6df1-473b-8b08-d6ac5091a932', tool_call_id='call_iMqJ6aSVX5YFfTUpcsigv4zE', status='error')]}}\n",
      "{'model': {'messages': AIMessage(content='', additional_kwargs={'tool_calls': [{'id': 'call_eOyTFL0DbeVjjOdoTSCeoZiL', 'function': {'arguments': '{\"query\":\"1933 - 1872\"}', 'name': 'calculator'}, 'type': 'function'}], 'refusal': None}, response_metadata={'token_usage': {'completion_tokens': 19, 'prompt_tokens': 679, 'total_tokens': 698, 'completion_tokens_details': {'accepted_prediction_tokens': 0, 'audio_tokens': 0, 'reasoning_tokens': 0, 'rejected_prediction_tokens': 0}, 'prompt_tokens_details': {'audio_tokens': 0, 'cached_tokens': 0}}, 'model_name': 'gpt-4o-mini-2024-07-18', 'system_fingerprint': None, 'finish_reason': 'tool_calls', 'logprobs': None}, id='run--1b56941f-2582-4b3d-94ae-5fa95331a7c1-0', tool_calls=[{'name': 'calculator', 'args': {'query': '1933 - 1872'}, 'id': 'call_eOyTFL0DbeVjjOdoTSCeoZiL', 'type': 'tool_call'}], usage_metadata={'input_tokens': 679, 'output_tokens': 19, 'total_tokens': 698, 'input_token_details': {'audio': 0, 'cache_read': 0}, 'output_token_details': {'audio': 0, 'reasoning': 0}})}}\n",
      "{'tools': {'messages': [ToolMessage(content=\"Error: ValueError('malformed node or string on line 1: <ast.BinOp object at 0x10dd82390>')\\n Please fix your mistakes.\", name='calculator', id='9487c904-4d5c-49c2-922d-a1cca76188b9', tool_call_id='call_eOyTFL0DbeVjjOdoTSCeoZiL', status='error')]}}\n",
      "{'model': {'messages': AIMessage(content='', additional_kwargs={'tool_calls': [{'id': 'call_iCTxmpNE79PtEyoI9un2aBnM', 'function': {'arguments': '{\"query\":\"1933 - 1872\"}', 'name': 'calculator'}, 'type': 'function'}], 'refusal': None}, response_metadata={'token_usage': {'completion_tokens': 19, 'prompt_tokens': 740, 'total_tokens': 759, 'completion_tokens_details': {'accepted_prediction_tokens': 0, 'audio_tokens': 0, 'reasoning_tokens': 0, 'rejected_prediction_tokens': 0}, 'prompt_tokens_details': {'audio_tokens': 0, 'cached_tokens': 0}}, 'model_name': 'gpt-4o-mini-2024-07-18', 'system_fingerprint': None, 'finish_reason': 'tool_calls', 'logprobs': None}, id='run--ca7a894e-b6e9-4840-a3fc-602177100306-0', tool_calls=[{'name': 'calculator', 'args': {'query': '1933 - 1872'}, 'id': 'call_iCTxmpNE79PtEyoI9un2aBnM', 'type': 'tool_call'}], usage_metadata={'input_tokens': 740, 'output_tokens': 19, 'total_tokens': 759, 'input_token_details': {'audio': 0, 'cache_read': 0}, 'output_token_details': {'audio': 0, 'reasoning': 0}})}}\n",
      "{'tools': {'messages': [ToolMessage(content=\"Error: ValueError('malformed node or string on line 1: <ast.BinOp object at 0x10ddb9590>')\\n Please fix your mistakes.\", name='calculator', id='1cca1dc3-d0f1-4d45-926d-101b187ea1c3', tool_call_id='call_iCTxmpNE79PtEyoI9un2aBnM', status='error')]}}\n",
      "{'model': {'messages': AIMessage(content='', additional_kwargs={'tool_calls': [{'id': 'call_F04nvMuoHEIM5jHuIy5NU3cZ', 'function': {'arguments': '{\"query\":\"1933 - 1872\"}', 'name': 'calculator'}, 'type': 'function'}], 'refusal': None}, response_metadata={'token_usage': {'completion_tokens': 19, 'prompt_tokens': 801, 'total_tokens': 820, 'completion_tokens_details': {'accepted_prediction_tokens': 0, 'audio_tokens': 0, 'reasoning_tokens': 0, 'rejected_prediction_tokens': 0}, 'prompt_tokens_details': {'audio_tokens': 0, 'cached_tokens': 0}}, 'model_name': 'gpt-4o-mini-2024-07-18', 'system_fingerprint': None, 'finish_reason': 'tool_calls', 'logprobs': None}, id='run--0acefd16-796e-4628-8c90-5c8bea4daab7-0', tool_calls=[{'name': 'calculator', 'args': {'query': '1933 - 1872'}, 'id': 'call_F04nvMuoHEIM5jHuIy5NU3cZ', 'type': 'tool_call'}], usage_metadata={'input_tokens': 801, 'output_tokens': 19, 'total_tokens': 820, 'input_token_details': {'audio': 0, 'cache_read': 0}, 'output_token_details': {'audio': 0, 'reasoning': 0}})}}\n",
      "{'tools': {'messages': [ToolMessage(content=\"Error: ValueError('malformed node or string on line 1: <ast.BinOp object at 0x10dda81d0>')\\n Please fix your mistakes.\", name='calculator', id='3bd88928-d020-4ed4-b286-772d93b6ae56', tool_call_id='call_F04nvMuoHEIM5jHuIy5NU3cZ', status='error')]}}\n",
      "{'model': {'messages': AIMessage(content='', additional_kwargs={'tool_calls': [{'id': 'call_aqNu6psjChVpVHTgJrAHorBH', 'function': {'arguments': '{\"query\":\"1933 - 1872\"}', 'name': 'calculator'}, 'type': 'function'}], 'refusal': None}, response_metadata={'token_usage': {'completion_tokens': 19, 'prompt_tokens': 863, 'total_tokens': 882, 'completion_tokens_details': {'accepted_prediction_tokens': 0, 'audio_tokens': 0, 'reasoning_tokens': 0, 'rejected_prediction_tokens': 0}, 'prompt_tokens_details': {'audio_tokens': 0, 'cached_tokens': 0}}, 'model_name': 'gpt-4o-mini-2024-07-18', 'system_fingerprint': None, 'finish_reason': 'tool_calls', 'logprobs': None}, id='run--9963b5ff-0f73-4843-a0ad-6e50330a7dbc-0', tool_calls=[{'name': 'calculator', 'args': {'query': '1933 - 1872'}, 'id': 'call_aqNu6psjChVpVHTgJrAHorBH', 'type': 'tool_call'}], usage_metadata={'input_tokens': 863, 'output_tokens': 19, 'total_tokens': 882, 'input_token_details': {'audio': 0, 'cache_read': 0}, 'output_token_details': {'audio': 0, 'reasoning': 0}})}}\n",
      "{'tools': {'messages': [ToolMessage(content=\"Error: ValueError('malformed node or string on line 1: <ast.BinOp object at 0x10dd81110>')\\n Please fix your mistakes.\", name='calculator', id='cc787e62-df5b-4dea-8163-8c59809ab396', tool_call_id='call_aqNu6psjChVpVHTgJrAHorBH', status='error')]}}\n",
      "{'model': {'messages': AIMessage(content='', additional_kwargs={'tool_calls': [{'id': 'call_XP6MoJV28epMSrdFxSljfaQj', 'function': {'arguments': '{\"query\":\"1933 - 1872\"}', 'name': 'calculator'}, 'type': 'function'}], 'refusal': None}, response_metadata={'token_usage': {'completion_tokens': 19, 'prompt_tokens': 924, 'total_tokens': 943, 'completion_tokens_details': {'accepted_prediction_tokens': 0, 'audio_tokens': 0, 'reasoning_tokens': 0, 'rejected_prediction_tokens': 0}, 'prompt_tokens_details': {'audio_tokens': 0, 'cached_tokens': 0}}, 'model_name': 'gpt-4o-mini-2024-07-18', 'system_fingerprint': None, 'finish_reason': 'tool_calls', 'logprobs': None}, id='run--80d558bd-1c1d-432c-ab9e-4f72e4e793c1-0', tool_calls=[{'name': 'calculator', 'args': {'query': '1933 - 1872'}, 'id': 'call_XP6MoJV28epMSrdFxSljfaQj', 'type': 'tool_call'}], usage_metadata={'input_tokens': 924, 'output_tokens': 19, 'total_tokens': 943, 'input_token_details': {'audio': 0, 'cache_read': 0}, 'output_token_details': {'audio': 0, 'reasoning': 0}})}}\n",
      "{'tools': {'messages': [ToolMessage(content=\"Error: ValueError('malformed node or string on line 1: <ast.BinOp object at 0x10ddcb250>')\\n Please fix your mistakes.\", name='calculator', id='e97b549e-b8b0-4b78-a3d8-b7f38fadf996', tool_call_id='call_XP6MoJV28epMSrdFxSljfaQj', status='error')]}}\n",
      "{'model': {'messages': AIMessage(content='', additional_kwargs={'tool_calls': [{'id': 'call_XGmxPasfLuC5eSowgvuU7hb0', 'function': {'arguments': '{\"query\":\"1933 - 1872\"}', 'name': 'calculator'}, 'type': 'function'}], 'refusal': None}, response_metadata={'token_usage': {'completion_tokens': 19, 'prompt_tokens': 985, 'total_tokens': 1004, 'completion_tokens_details': {'accepted_prediction_tokens': 0, 'audio_tokens': 0, 'reasoning_tokens': 0, 'rejected_prediction_tokens': 0}, 'prompt_tokens_details': {'audio_tokens': 0, 'cached_tokens': 0}}, 'model_name': 'gpt-4o-mini-2024-07-18', 'system_fingerprint': None, 'finish_reason': 'tool_calls', 'logprobs': None}, id='run--1ba381e1-d772-44e6-b6f1-4be7a9e218af-0', tool_calls=[{'name': 'calculator', 'args': {'query': '1933 - 1872'}, 'id': 'call_XGmxPasfLuC5eSowgvuU7hb0', 'type': 'tool_call'}], usage_metadata={'input_tokens': 985, 'output_tokens': 19, 'total_tokens': 1004, 'input_token_details': {'audio': 0, 'cache_read': 0}, 'output_token_details': {'audio': 0, 'reasoning': 0}})}}\n",
      "{'tools': {'messages': [ToolMessage(content=\"Error: ValueError('malformed node or string on line 1: <ast.BinOp object at 0x10ddca610>')\\n Please fix your mistakes.\", name='calculator', id='485b7ae1-07a3-4bbb-acc3-043d83c35ff9', tool_call_id='call_XGmxPasfLuC5eSowgvuU7hb0', status='error')]}}\n",
      "{'model': {'messages': AIMessage(content='', additional_kwargs={'tool_calls': [{'id': 'call_91GLPRSyaX59bmJYOgIGrcEg', 'function': {'arguments': '{\"query\":\"1933 - 1872\"}', 'name': 'calculator'}, 'type': 'function'}], 'refusal': None}, response_metadata={'token_usage': {'completion_tokens': 19, 'prompt_tokens': 1046, 'total_tokens': 1065, 'completion_tokens_details': {'accepted_prediction_tokens': 0, 'audio_tokens': 0, 'reasoning_tokens': 0, 'rejected_prediction_tokens': 0}, 'prompt_tokens_details': {'audio_tokens': 0, 'cached_tokens': 0}}, 'model_name': 'gpt-4o-mini-2024-07-18', 'system_fingerprint': None, 'finish_reason': 'tool_calls', 'logprobs': None}, id='run--cf980334-1b85-4c2d-858c-c105c70641f0-0', tool_calls=[{'name': 'calculator', 'args': {'query': '1933 - 1872'}, 'id': 'call_91GLPRSyaX59bmJYOgIGrcEg', 'type': 'tool_call'}], usage_metadata={'input_tokens': 1046, 'output_tokens': 19, 'total_tokens': 1065, 'input_token_details': {'audio': 0, 'cache_read': 0}, 'output_token_details': {'audio': 0, 'reasoning': 0}})}}\n",
      "{'tools': {'messages': [ToolMessage(content=\"Error: ValueError('malformed node or string on line 1: <ast.BinOp object at 0x10dd830d0>')\\n Please fix your mistakes.\", name='calculator', id='58686659-4ac6-498e-a6e6-fdad58091d35', tool_call_id='call_91GLPRSyaX59bmJYOgIGrcEg', status='error')]}}\n",
      "{'model': {'messages': AIMessage(content='', additional_kwargs={'tool_calls': [{'id': 'call_fX7EnjSADdGzQWC019rLI1q3', 'function': {'arguments': '{\"query\":\"1933 - 1872\"}', 'name': 'calculator'}, 'type': 'function'}], 'refusal': None}, response_metadata={'token_usage': {'completion_tokens': 19, 'prompt_tokens': 1108, 'total_tokens': 1127, 'completion_tokens_details': {'accepted_prediction_tokens': 0, 'audio_tokens': 0, 'reasoning_tokens': 0, 'rejected_prediction_tokens': 0}, 'prompt_tokens_details': {'audio_tokens': 0, 'cached_tokens': 1024}}, 'model_name': 'gpt-4o-mini-2024-07-18', 'system_fingerprint': None, 'finish_reason': 'tool_calls', 'logprobs': None}, id='run--f86616d6-360d-4171-85a4-82c08ddff874-0', tool_calls=[{'name': 'calculator', 'args': {'query': '1933 - 1872'}, 'id': 'call_fX7EnjSADdGzQWC019rLI1q3', 'type': 'tool_call'}], usage_metadata={'input_tokens': 1108, 'output_tokens': 19, 'total_tokens': 1127, 'input_token_details': {'audio': 0, 'cache_read': 1024}, 'output_token_details': {'audio': 0, 'reasoning': 0}})}}\n",
      "{'tools': {'messages': [ToolMessage(content=\"Error: ValueError('malformed node or string on line 1: <ast.BinOp object at 0x10dde5c90>')\\n Please fix your mistakes.\", name='calculator', id='6326654b-aff5-4b8b-bf4e-5958876f3811', tool_call_id='call_fX7EnjSADdGzQWC019rLI1q3', status='error')]}}\n",
      "{'model': {'messages': AIMessage(content='', additional_kwargs={'tool_calls': [{'id': 'call_pPBx50vIOPSKWMBixICHXFsN', 'function': {'arguments': '{\"query\":\"1933 - 1872\"}', 'name': 'calculator'}, 'type': 'function'}], 'refusal': None}, response_metadata={'token_usage': {'completion_tokens': 19, 'prompt_tokens': 1170, 'total_tokens': 1189, 'completion_tokens_details': {'accepted_prediction_tokens': 0, 'audio_tokens': 0, 'reasoning_tokens': 0, 'rejected_prediction_tokens': 0}, 'prompt_tokens_details': {'audio_tokens': 0, 'cached_tokens': 1024}}, 'model_name': 'gpt-4o-mini-2024-07-18', 'system_fingerprint': None, 'finish_reason': 'tool_calls', 'logprobs': None}, id='run--052c3f3b-380c-4574-b152-622d7daef688-0', tool_calls=[{'name': 'calculator', 'args': {'query': '1933 - 1872'}, 'id': 'call_pPBx50vIOPSKWMBixICHXFsN', 'type': 'tool_call'}], usage_metadata={'input_tokens': 1170, 'output_tokens': 19, 'total_tokens': 1189, 'input_token_details': {'audio': 0, 'cache_read': 1024}, 'output_token_details': {'audio': 0, 'reasoning': 0}})}}\n",
      "{'tools': {'messages': [ToolMessage(content=\"Error: ValueError('malformed node or string on line 1: <ast.BinOp object at 0x10dde0e10>')\\n Please fix your mistakes.\", name='calculator', id='702516ad-7a37-4bb2-86fa-22f3e3fa2c1c', tool_call_id='call_pPBx50vIOPSKWMBixICHXFsN', status='error')]}}\n",
      "{'model': {'messages': AIMessage(content='', additional_kwargs={'tool_calls': [{'id': 'call_MiRAbiLFituiqBTB1Jxh9QN0', 'function': {'arguments': '{\"query\":\"1933 - 1872\"}', 'name': 'calculator'}, 'type': 'function'}], 'refusal': None}, response_metadata={'token_usage': {'completion_tokens': 19, 'prompt_tokens': 1232, 'total_tokens': 1251, 'completion_tokens_details': {'accepted_prediction_tokens': 0, 'audio_tokens': 0, 'reasoning_tokens': 0, 'rejected_prediction_tokens': 0}, 'prompt_tokens_details': {'audio_tokens': 0, 'cached_tokens': 0}}, 'model_name': 'gpt-4o-mini-2024-07-18', 'system_fingerprint': None, 'finish_reason': 'tool_calls', 'logprobs': None}, id='run--6bc68940-2136-4ad1-b866-58ed3fc0a8f4-0', tool_calls=[{'name': 'calculator', 'args': {'query': '1933 - 1872'}, 'id': 'call_MiRAbiLFituiqBTB1Jxh9QN0', 'type': 'tool_call'}], usage_metadata={'input_tokens': 1232, 'output_tokens': 19, 'total_tokens': 1251, 'input_token_details': {'audio': 0, 'cache_read': 0}, 'output_token_details': {'audio': 0, 'reasoning': 0}})}}\n"
     ]
    },
    {
     "ename": "GraphRecursionError",
     "evalue": "Recursion limit of 25 reached without hitting a stop condition. You can increase the limit by setting the `recursion_limit` config key.\nFor troubleshooting, visit: https://python.langchain.com/docs/troubleshooting/errors/GRAPH_RECURSION_LIMIT",
     "output_type": "error",
     "traceback": [
      "\u001b[0;31m---------------------------------------------------------------------------\u001b[0m",
      "\u001b[0;31mGraphRecursionError\u001b[0m                       Traceback (most recent call last)",
      "Cell \u001b[0;32mIn[8], line 11\u001b[0m\n\u001b[1;32m      1\u001b[0m \u001b[38;5;28;01mfrom\u001b[39;00m \u001b[38;5;21;01mlangchain_core\u001b[39;00m\u001b[38;5;21;01m.\u001b[39;00m\u001b[38;5;21;01mmessages\u001b[39;00m \u001b[38;5;28;01mimport\u001b[39;00m HumanMessage\n\u001b[1;32m      3\u001b[0m \u001b[38;5;28minput\u001b[39m \u001b[38;5;241m=\u001b[39m {\n\u001b[1;32m      4\u001b[0m     \u001b[38;5;124m'\u001b[39m\u001b[38;5;124mmessages\u001b[39m\u001b[38;5;124m'\u001b[39m: [\n\u001b[1;32m      5\u001b[0m         HumanMessage(\n\u001b[0;32m   (...)\u001b[0m\n\u001b[1;32m      8\u001b[0m     ]\n\u001b[1;32m      9\u001b[0m }\n\u001b[0;32m---> 11\u001b[0m \u001b[38;5;28;43;01mfor\u001b[39;49;00m\u001b[43m \u001b[49m\u001b[43mc\u001b[49m\u001b[43m \u001b[49m\u001b[38;5;129;43;01min\u001b[39;49;00m\u001b[43m \u001b[49m\u001b[43mgraph\u001b[49m\u001b[38;5;241;43m.\u001b[39;49m\u001b[43mstream\u001b[49m\u001b[43m(\u001b[49m\u001b[38;5;28;43minput\u001b[39;49m\u001b[43m)\u001b[49m\u001b[43m:\u001b[49m\n\u001b[1;32m     12\u001b[0m \u001b[43m    \u001b[49m\u001b[38;5;28;43mprint\u001b[39;49m\u001b[43m(\u001b[49m\u001b[43mc\u001b[49m\u001b[43m)\u001b[49m\n",
      "File \u001b[0;32m~/Desktop/SoMA/e-learning/langgraph/.venv/lib/python3.13/site-packages/langgraph/pregel/__init__.py:1676\u001b[0m, in \u001b[0;36mPregel.stream\u001b[0;34m(self, input, config, stream_mode, output_keys, interrupt_before, interrupt_after, debug, subgraphs)\u001b[0m\n\u001b[1;32m   1667\u001b[0m \u001b[38;5;28;01mif\u001b[39;00m loop\u001b[38;5;241m.\u001b[39mstatus \u001b[38;5;241m==\u001b[39m \u001b[38;5;124m\"\u001b[39m\u001b[38;5;124mout_of_steps\u001b[39m\u001b[38;5;124m\"\u001b[39m:\n\u001b[1;32m   1668\u001b[0m     msg \u001b[38;5;241m=\u001b[39m create_error_message(\n\u001b[1;32m   1669\u001b[0m         message\u001b[38;5;241m=\u001b[39m(\n\u001b[1;32m   1670\u001b[0m             \u001b[38;5;124mf\u001b[39m\u001b[38;5;124m\"\u001b[39m\u001b[38;5;124mRecursion limit of \u001b[39m\u001b[38;5;132;01m{\u001b[39;00mconfig[\u001b[38;5;124m'\u001b[39m\u001b[38;5;124mrecursion_limit\u001b[39m\u001b[38;5;124m'\u001b[39m]\u001b[38;5;132;01m}\u001b[39;00m\u001b[38;5;124m reached \u001b[39m\u001b[38;5;124m\"\u001b[39m\n\u001b[0;32m   (...)\u001b[0m\n\u001b[1;32m   1674\u001b[0m         error_code\u001b[38;5;241m=\u001b[39mErrorCode\u001b[38;5;241m.\u001b[39mGRAPH_RECURSION_LIMIT,\n\u001b[1;32m   1675\u001b[0m     )\n\u001b[0;32m-> 1676\u001b[0m     \u001b[38;5;28;01mraise\u001b[39;00m GraphRecursionError(msg)\n\u001b[1;32m   1677\u001b[0m \u001b[38;5;66;03m# set final channel values as run output\u001b[39;00m\n\u001b[1;32m   1678\u001b[0m run_manager\u001b[38;5;241m.\u001b[39mon_chain_end(loop\u001b[38;5;241m.\u001b[39moutput)\n",
      "\u001b[0;31mGraphRecursionError\u001b[0m: Recursion limit of 25 reached without hitting a stop condition. You can increase the limit by setting the `recursion_limit` config key.\nFor troubleshooting, visit: https://python.langchain.com/docs/troubleshooting/errors/GRAPH_RECURSION_LIMIT"
     ]
    }
   ],
   "source": [
    "from langchain_core.messages import HumanMessage\n",
    "\n",
    "input = {\n",
    "    'messages': [\n",
    "        HumanMessage(\n",
    "            '미국의 제 30대 대통령이 사망했을 때 나이는 몇 살일까요?'\n",
    "        )\n",
    "    ]\n",
    "}\n",
    "\n",
    "for c in graph.stream(input):\n",
    "    print(c)"
   ]
  },
  {
   "cell_type": "code",
   "execution_count": null,
   "id": "84f13609",
   "metadata": {},
   "outputs": [],
   "source": []
  }
 ],
 "metadata": {
  "kernelspec": {
   "display_name": ".venv",
   "language": "python",
   "name": "python3"
  },
  "language_info": {
   "codemirror_mode": {
    "name": "ipython",
    "version": 3
   },
   "file_extension": ".py",
   "mimetype": "text/x-python",
   "name": "python",
   "nbconvert_exporter": "python",
   "pygments_lexer": "ipython3",
   "version": "3.13.5"
  }
 },
 "nbformat": 4,
 "nbformat_minor": 5
}
