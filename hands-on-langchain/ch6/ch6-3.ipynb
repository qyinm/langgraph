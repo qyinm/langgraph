{
 "cells": [
  {
   "cell_type": "code",
   "execution_count": 1,
   "id": "6e876ec8",
   "metadata": {},
   "outputs": [],
   "source": [
    "from typing import Annotated, TypedDict\n",
    "\n",
    "from langchain_core.messages import (\n",
    "    AIMessage,\n",
    "    BaseMessage,\n",
    "    HumanMessage,\n",
    "    SystemMessage\n",
    ")\n",
    "from langchain_openai import ChatOpenAI\n",
    "from langgraph.graph import END, START, StateGraph\n",
    "from langgraph.graph.message import add_messages\n",
    "\n",
    "model = ChatOpenAI(model='gpt-4o-mini')\n",
    "\n",
    "class State(TypedDict):\n",
    "    messages: Annotated[list[BaseMessage], add_messages]\n",
    "\n",
    "generate_prompt = SystemMessage(\n",
    "    '당신은 훌륭한 3단락 에세이를 작성하는 임무를 가진 에세이 어시스턴트입니다.'\n",
    "    '사용자의 요청에 맞춰 최상의 에세이를 작성하세요.'\n",
    "    '사용자가 비평을 제공하며, 이전 시도에 대한 수정 버전을 응답하세요.'\n",
    ")\n",
    "\n",
    "reflection_prompt = SystemMessage(\n",
    "    '당신은 에세이 제출물을 평가하는 교사입니다. 사용자의 제출물에 대해 비평과 추천을 생성하세요.'\n",
    "    '길이, 깊이, 스타일 등과 같은 구체적인 요구사항을 포함한 자세한 추천을 제공하세요.'\n",
    ")\n",
    "\n",
    "def generate(state: State) -> State:\n",
    "    answer = model.invoke([generate_prompt] + state['messages'])\n",
    "    return {'messages': [answer]}\n",
    "\n",
    "def reflection(state: State) -> State:\n",
    "    cls_map = {AIMessage: HumanMessage, HumanMessage: AIMessage}\n",
    "    translated = [reflection_prompt, state['messages'][0]] + [\n",
    "        cls_map[msg.__class__](content=msg.content) for msg in state['messages'][1:]\n",
    "    ]\n",
    "    answer = model.invoke(translated)\n",
    "    \n",
    "    return {'messages': [HumanMessage(content=answer.content)]}\n",
    "\n",
    "\n",
    "def should_continue(state: State):\n",
    "    if len(state['messages']) > 6:\n",
    "        return END\n",
    "    return 'reflect'\n",
    "\n",
    "\n",
    "builder = StateGraph(State)\n",
    "builder.add_node('generate', generate)\n",
    "builder.add_node('reflect', reflection)\n",
    "builder.add_edge(START, 'generate')\n",
    "builder.add_conditional_edges('generate', should_continue)\n",
    "builder.add_edge('reflect', 'generate')\n",
    "\n",
    "graph = builder.compile()"
   ]
  },
  {
   "cell_type": "code",
   "execution_count": 2,
   "id": "232feb5e",
   "metadata": {},
   "outputs": [
    {
     "data": {
      "image/png": "[encoded data removed]",
      "text/plain": [
       "<IPython.core.display.Image object>"
      ]
     },
     "metadata": {},
     "output_type": "display_data"
    }
   ],
   "source": [
    "from IPython.display import Image, display\n",
    "\n",
    "display(Image(graph.get_graph().draw_mermaid_png()))"
   ]
  },
  {
   "cell_type": "code",
   "execution_count": null,
   "id": "0b8ec703",
   "metadata": {},
   "outputs": [],
   "source": []
  }
 ],
 "metadata": {
  "kernelspec": {
   "display_name": ".venv",
   "language": "python",
   "name": "python3"
  },
  "language_info": {
   "codemirror_mode": {
    "name": "ipython",
    "version": 3
   },
   "file_extension": ".py",
   "mimetype": "text/x-python",
   "name": "python",
   "nbconvert_exporter": "python",
   "pygments_lexer": "ipython3",
   "version": "3.13.5"
  }
 },
 "nbformat": 4,
 "nbformat_minor": 5
}
