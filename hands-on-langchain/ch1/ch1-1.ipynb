{
 "cells": [
  {
   "cell_type": "code",
   "execution_count": 1,
   "id": "36b48edf",
   "metadata": {},
   "outputs": [
    {
     "data": {
      "text/plain": [
       "' 변해가는 모습을 보여주며, 시간이 지나면서 어떻게 변화하는지를 시각적으로 나타내는 장면을 연출할 수 있습니다. \\n\\n4. **결말의 메타포**: 결말에서 \"끝나지 않는 여정\"이라는 메시지를 전달하기 위해, 주인공이 다시 여행을 떠나는 모습으로 마무리할 수 있습니다. 이는 삶의 여정이 계속 이어진다는 상징적인 의미를 지��니다.\\n\\n이와 같은 요소들을 종합하여, 삶의 여정과 그 의미를 담아내는 감동적인 영상으로 완성할 수 있을 것입니다.\\n\\n### 영상 스토리보드\\n\\n1. **오프닝 (0:00 - 0:10)**\\n   - **장면**: 하늘을 배경으로 한 고요한 풍경 (구름이 천천히 ��러감).\\n   - **음악**: ��잔한 피아노 선율이 흐르며 시작.\\n\\n2. **여행의 시작 (0:10 - 0:30)**\\n   - **장면**: 주인공이 여행 가방을 메고 집을 나서는 모습. \\n   - **내'"
      ]
     },
     "execution_count": 1,
     "metadata": {},
     "output_type": "execute_result"
    }
   ],
   "source": [
    "from langchain_openai.llms import OpenAI\n",
    "model = OpenAI(model=\"gpt-4o-mini\")\n",
    "\n",
    "model.invoke(\"하늘이\")"
   ]
  },
  {
   "cell_type": "markdown",
   "id": "eda31fbc",
   "metadata": {},
   "source": [
    "채팅 모델 호출"
   ]
  },
  {
   "cell_type": "code",
   "execution_count": 2,
   "id": "6fc2ac3f",
   "metadata": {},
   "outputs": [
    {
     "data": {
      "text/plain": [
       "AIMessage(content='프랑스의 수도는 파리입니다.', additional_kwargs={'refusal': None}, response_metadata={'token_usage': {'completion_tokens': 13, 'prompt_tokens': 23, 'total_tokens': 36, 'completion_tokens_details': {'accepted_prediction_tokens': 0, 'audio_tokens': 0, 'reasoning_tokens': 0, 'rejected_prediction_tokens': 0}, 'prompt_tokens_details': {'audio_tokens': 0, 'cached_tokens': 0}}, 'model_name': 'gpt-3.5-turbo-0125', 'system_fingerprint': None, 'finish_reason': 'stop', 'logprobs': None}, id='run--560a4dcf-e0ce-4b30-8bd1-695cce419797-0', usage_metadata={'input_tokens': 23, 'output_tokens': 13, 'total_tokens': 36, 'input_token_details': {'audio': 0, 'cache_read': 0}, 'output_token_details': {'audio': 0, 'reasoning': 0}})"
      ]
     },
     "execution_count": 2,
     "metadata": {},
     "output_type": "execute_result"
    }
   ],
   "source": [
    "from langchain_openai.chat_models import ChatOpenAI\n",
    "from langchain_core.messages import HumanMessage\n",
    "\n",
    "model = ChatOpenAI()\n",
    "prompt = [\n",
    "    HumanMessage(\"프랑스의 수도는 어디인가요?\")\n",
    "]\n",
    "\n",
    "model.invoke(prompt)"
   ]
  },
  {
   "cell_type": "markdown",
   "id": "08d4d74c",
   "metadata": {},
   "source": [
    "시스템 메시지를 적용한 채팅 모델 호출"
   ]
  },
  {
   "cell_type": "code",
   "execution_count": 3,
   "id": "1a4f47e9",
   "metadata": {},
   "outputs": [
    {
     "data": {
      "text/plain": [
       "AIMessage(content='파리!!!', additional_kwargs={'refusal': None}, response_metadata={'token_usage': {'completion_tokens': 4, 'prompt_tokens': 67, 'total_tokens': 71, 'completion_tokens_details': {'accepted_prediction_tokens': 0, 'audio_tokens': 0, 'reasoning_tokens': 0, 'rejected_prediction_tokens': 0}, 'prompt_tokens_details': {'audio_tokens': 0, 'cached_tokens': 0}}, 'model_name': 'gpt-3.5-turbo-0125', 'system_fingerprint': None, 'finish_reason': 'stop', 'logprobs': None}, id='run--824c13f4-9a9d-4624-baf0-21fea94050a0-0', usage_metadata={'input_tokens': 67, 'output_tokens': 4, 'total_tokens': 71, 'input_token_details': {'audio': 0, 'cache_read': 0}, 'output_token_details': {'audio': 0, 'reasoning': 0}})"
      ]
     },
     "execution_count": 3,
     "metadata": {},
     "output_type": "execute_result"
    }
   ],
   "source": [
    "from langchain_core.messages import HumanMessage, SystemMessage\n",
    "from langchain_openai.chat_models import ChatOpenAI\n",
    "\n",
    "model = ChatOpenAI()\n",
    "\n",
    "system_msg = SystemMessage(\n",
    "    '''당신은 문장 끝에 느낌표를 세 개 붙여 대답하는 친절한 어시스턴트입니다.'''\n",
    ")\n",
    "human_msg = HumanMessage('프랑스의 수도는 어디인가요?')\n",
    "\n",
    "model.invoke([system_msg, human_msg])"
   ]
  },
  {
   "cell_type": "code",
   "execution_count": null,
   "id": "0f8e6502",
   "metadata": {},
   "outputs": [],
   "source": []
  }
 ],
 "metadata": {
  "kernelspec": {
   "display_name": ".venv",
   "language": "python",
   "name": "python3"
  },
  "language_info": {
   "codemirror_mode": {
    "name": "ipython",
    "version": 3
   },
   "file_extension": ".py",
   "mimetype": "text/x-python",
   "name": "python",
   "nbconvert_exporter": "python",
   "pygments_lexer": "ipython3",
   "version": "3.13.5"
  }
 },
 "nbformat": 4,
 "nbformat_minor": 5
}
