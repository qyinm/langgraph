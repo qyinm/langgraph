{
 "cells": [
  {
   "cell_type": "code",
   "execution_count": 1,
   "id": "e05d888d",
   "metadata": {},
   "outputs": [
    {
     "name": "stdout",
     "output_type": "stream",
     "text": [
      "Result: {'foo': 'hellobar'}\n"
     ]
    }
   ],
   "source": [
    "from typing import TypedDict\n",
    "from langgraph.graph import START, StateGraph\n",
    "\n",
    "class State(TypedDict):\n",
    "    foo: str # 서브그래프와 이 키를 공유\n",
    "\n",
    "\n",
    "class SubgraphState(TypedDict):\n",
    "    foo: str # 부모 그래프와 이 키를 공유\n",
    "    bar: str\n",
    "\n",
    "\n",
    "# 서브그래프의 정의\n",
    "def subgraph_node(state: SubgraphState):\n",
    "    # 서브그래프 노드는 공유 키인 \"foo\"를 사용해 부모 그래프와 통신한다\n",
    "    return {'foo': state['foo'] + 'bar'}\n",
    "\n",
    "\n",
    "subgraph_builder = StateGraph(SubgraphState)\n",
    "subgraph_builder.add_node(\"subgraph_node\", subgraph_node)\n",
    "subgraph_builder.add_edge(START, \"subgraph_node\")\n",
    "\n",
    "subgraph = subgraph_builder.compile()\n",
    "\n",
    "builder = StateGraph(State)\n",
    "builder.add_node(\"subgraph\", subgraph)\n",
    "builder.add_edge(START, \"subgraph\")\n",
    "\n",
    "graph = builder.compile()\n",
    "\n",
    "initial_state = {'foo': 'hello'}\n",
    "result = graph.invoke(initial_state)\n",
    "print(f\"Result: {result}\")"
   ]
  },
  {
   "cell_type": "code",
   "execution_count": null,
   "id": "1809c903",
   "metadata": {},
   "outputs": [],
   "source": []
  }
 ],
 "metadata": {
  "kernelspec": {
   "display_name": ".venv",
   "language": "python",
   "name": "python3"
  },
  "language_info": {
   "codemirror_mode": {
    "name": "ipython",
    "version": 3
   },
   "file_extension": ".py",
   "mimetype": "text/x-python",
   "name": "python",
   "nbconvert_exporter": "python",
   "pygments_lexer": "ipython3",
   "version": "3.13.5"
  }
 },
 "nbformat": 4,
 "nbformat_minor": 5
}
