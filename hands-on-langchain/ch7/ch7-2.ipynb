{
 "cells": [
  {
   "cell_type": "code",
   "execution_count": null,
   "id": "ad249eb6",
   "metadata": {},
   "outputs": [],
   "source": [
    "from typing import TypedDict\n",
    "from langgraph.graph import START, StateGraph\n",
    "\n",
    "class State(TypedDict):\n",
    "    foo: str\n",
    "\n",
    "\n",
    "class SubgraphState(TypedDict):\n",
    "    # 부모 그래프와 키를 공유하지 않음\n",
    "    bar: str\n",
    "    baz: str\n",
    "\n",
    "\n",
    "def subgraph_node(state: SubgraphState):\n",
    "    return {\"baz\": state[\"bar\"] + \"baz\"}\n",
    "\n",
    "\n",
    "subgraph_builder = StateGraph(SubgraphState)\n",
    "subgraph_builder.add_node(\"subgraph_node\", subgraph_node)\n",
    "subgraph_builder.add_edge(START, \"subgraph_node\")\n",
    "\n",
    "subgraph = subgraph_builder.compile()\n",
    "\n",
    "def node(state: State):\n",
    "    response = subgraph.invoke({\"bar\": state[\"foo\"]})\n",
    "    return {\"foo\": response[\"baz\"]}\n",
    "\n",
    "\n",
    "\n",
    "\n",
    "builder = StateGraph(State)\n",
    "builder.add_node(\"subgraph\", subgraph)\n",
    "builder.add_node(\"node\", node)\n",
    "builder.add_edge(START, \"subgraph\")\n",
    "builder.add_edge(\"subgraph\", \"node\")\n",
    "builder.add_edge(\"node\", END)"
   ]
  }
 ],
 "metadata": {
  "language_info": {
   "name": "python"
  }
 },
 "nbformat": 4,
 "nbformat_minor": 5
}
